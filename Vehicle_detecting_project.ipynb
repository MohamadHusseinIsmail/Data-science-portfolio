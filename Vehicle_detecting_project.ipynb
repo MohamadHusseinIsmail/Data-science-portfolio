{
  "nbformat": 4,
  "nbformat_minor": 0,
  "metadata": {
    "colab": {
      "private_outputs": true,
      "provenance": [],
      "authorship_tag": "ABX9TyNKKazhswtS5JPxFCV5uSDK",
      "include_colab_link": true
    },
    "kernelspec": {
      "name": "python3",
      "display_name": "Python 3"
    },
    "language_info": {
      "name": "python"
    }
  },
  "cells": [
    {
      "cell_type": "markdown",
      "metadata": {
        "id": "view-in-github",
        "colab_type": "text"
      },
      "source": [
        "<a href=\"https://colab.research.google.com/github/MohamadHusseinIsmail/Data-science-portfolio/blob/main/Vehicle_detecting_project.ipynb\" target=\"_parent\"><img src=\"https://colab.research.google.com/assets/colab-badge.svg\" alt=\"Open In Colab\"/></a>"
      ]
    },
    {
      "cell_type": "code",
      "execution_count": null,
      "metadata": {
        "id": "Mpv08owHjLFY"
      },
      "outputs": [],
      "source": [
        "# Import libraries\n",
        "from PIL import Image\n",
        "import cv2\n",
        "import numpy as np\n",
        "import requests"
      ]
    },
    {
      "cell_type": "code",
      "source": [
        "# Reading image form url\n",
        "image = Image.open(requests.get('https://a57.foxnews.com/media.foxbusiness.com/BrightCove/854081161001/201805/2879/931/524/854081161001_5782482890001_5782477388001-vs.jpg', stream=True).raw)\n",
        "image = image.resize((450,250))\n",
        "image_arr = np.array(image)\n",
        "image"
      ],
      "metadata": {
        "id": "DAKg7xfhjk4c"
      },
      "execution_count": null,
      "outputs": []
    },
    {
      "cell_type": "code",
      "source": [
        "grey = cv2.cvtColor(image_arr,cv2.COLOR_BGR2GRAY)\n",
        "Image.fromarray(grey)"
      ],
      "metadata": {
        "id": "tuwfQfL8jpjk"
      },
      "execution_count": null,
      "outputs": []
    },
    {
      "cell_type": "code",
      "source": [
        "blur = cv2.GaussianBlur(grey,(5,5),0)\n",
        "Image.fromarray(blur)"
      ],
      "metadata": {
        "id": "EvJhtPsojuFJ"
      },
      "execution_count": null,
      "outputs": []
    },
    {
      "cell_type": "code",
      "source": [
        "dilated = cv2.dilate(blur,np.ones((3,3)))\n",
        "Image.fromarray(dilated)"
      ],
      "metadata": {
        "id": "dwBc1MAejyFS"
      },
      "execution_count": null,
      "outputs": []
    },
    {
      "cell_type": "code",
      "source": [
        "kernel = cv2.getStructuringElement(cv2.MORPH_ELLIPSE, (2, 2))\n",
        "closing = cv2.morphologyEx(dilated, cv2.MORPH_CLOSE, kernel)\n",
        "Image.fromarray(closing)"
      ],
      "metadata": {
        "id": "g6o2s-Wuj7oe"
      },
      "execution_count": null,
      "outputs": []
    },
    {
      "cell_type": "code",
      "source": [
        "car_cascade_src = 'cars.xml'\n",
        "car_cascade = cv2.CascadeClassifier(car_cascade_src)\n",
        "cars = car_cascade.detectMultiScale(closing, 1.1, 1)"
      ],
      "metadata": {
        "id": "JMbz9D4HkKyN"
      },
      "execution_count": null,
      "outputs": []
    },
    {
      "cell_type": "code",
      "source": [
        "cnt = 0\n",
        "for (x,y,w,h) in cars:\n",
        "  cv2.rectangle(image_arr,(x,y),(x+w,y+h),(255,0,0),2)\n",
        "  cnt += 1\n",
        "print(cnt, \" cars found\")\n",
        "Image.fromarray(image_arr)"
      ],
      "metadata": {
        "id": "MUmlxDO_kdIZ"
      },
      "execution_count": null,
      "outputs": []
    },
    {
      "cell_type": "code",
      "source": [
        "cascade_src = 'cars.xml'\n",
        "video_src = 'Cars.mp4'\n",
        "\n",
        "cap = cv2.VideoCapture(video_src)\n",
        "car_cascade = cv2.CascadeClassifier(cascade_src)\n",
        "video = cv2.VideoWriter('result.avi',cv2.VideoWriter_fourcc(*'DIVX'), 15, (450,250))"
      ],
      "metadata": {
        "id": "EUEFdYdHnhE7"
      },
      "execution_count": null,
      "outputs": []
    },
    {
      "cell_type": "code",
      "source": [
        "while True:\n",
        "    ret, img = cap.read()\n",
        "\n",
        "    if (type(img) == type(None)):\n",
        "        break\n",
        "\n",
        "    gray = cv2.cvtColor(img, cv2.COLOR_BGR2GRAY)\n",
        "    cars = car_cascade.detectMultiScale(gray, 1.1, 2)\n",
        "\n",
        "    for (x,y,w,h) in cars:\n",
        "        cv2.rectangle(img,(x,y),(x+w,y+h),(0,255,255),2)\n",
        "\n",
        "    video.write(img)\n",
        "video.release()"
      ],
      "metadata": {
        "id": "ia7pDY9bnoXc"
      },
      "execution_count": null,
      "outputs": []
    }
  ]
}