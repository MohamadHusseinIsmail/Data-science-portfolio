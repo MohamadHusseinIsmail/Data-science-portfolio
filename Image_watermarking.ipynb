{
  "nbformat": 4,
  "nbformat_minor": 0,
  "metadata": {
    "colab": {
      "private_outputs": true,
      "provenance": [],
      "authorship_tag": "ABX9TyMkxsfWukFFeOhvFv1NSgO7",
      "include_colab_link": true
    },
    "kernelspec": {
      "name": "python3",
      "display_name": "Python 3"
    },
    "language_info": {
      "name": "python"
    }
  },
  "cells": [
    {
      "cell_type": "markdown",
      "metadata": {
        "id": "view-in-github",
        "colab_type": "text"
      },
      "source": [
        "<a href=\"https://colab.research.google.com/github/MohamadHusseinIsmail/Data-science-portfolio/blob/main/Image_watermarking.ipynb\" target=\"_parent\"><img src=\"https://colab.research.google.com/assets/colab-badge.svg\" alt=\"Open In Colab\"/></a>"
      ]
    },
    {
      "cell_type": "code",
      "execution_count": null,
      "metadata": {
        "id": "dO1RfxtbbuYB"
      },
      "outputs": [],
      "source": [
        "# Important library imports\n",
        "import cv2\n",
        "import numpy as np\n",
        "import requests\n",
        "from PIL import Image"
      ]
    },
    {
      "cell_type": "code",
      "source": [
        "# Reading image form url\n",
        "image = Image.open(requests.get('https://media.sproutsocial.com/uploads/2017/02/10x-featured-social-media-image-size.png', stream=True).raw)\n",
        "image_logow = image.resize((500,300))\n",
        "image_textw = image.resize((500,300))\n",
        "image_logow"
      ],
      "metadata": {
        "id": "3am-9vbrbzV8"
      },
      "execution_count": null,
      "outputs": []
    },
    {
      "cell_type": "code",
      "source": [
        "# Reading logo form url\n",
        "logo = Image.open(requests.get('https://pianalytix.com/wp-content/uploads/2020/05/cropped-pianalytiX-full-logo-square-2-209x52.png', stream=True).raw)\n",
        "logo"
      ],
      "metadata": {
        "id": "tz8hnNT7b4Y4"
      },
      "execution_count": null,
      "outputs": []
    },
    {
      "cell_type": "code",
      "source": [
        "image_logow = np.array(image_logow.convert('RGB'))\n",
        "h_image, w_image, _ = image_logow.shape\n",
        "logo = np.array(logo.convert('RGB'))\n",
        "h_logo, w_logo, _ = logo.shape"
      ],
      "metadata": {
        "id": "Ydig0QqIb7eV"
      },
      "execution_count": null,
      "outputs": []
    },
    {
      "cell_type": "code",
      "source": [
        "# Get the center of the original. It's the location where we will place the watermark\n",
        "center_y = int(h_image / 2)\n",
        "center_x = int(w_image / 2)\n",
        "top_y = center_y - int(h_logo / 2)\n",
        "left_x = center_x - int(w_logo / 2)\n",
        "bottom_y = top_y + h_logo\n",
        "right_x = left_x + w_logo"
      ],
      "metadata": {
        "id": "s3JwE9YecAjE"
      },
      "execution_count": null,
      "outputs": []
    },
    {
      "cell_type": "code",
      "source": [
        "# Get ROI\n",
        "roi = image_logow[top_y: bottom_y, left_x: right_x]\n",
        "# Add the Logo to the Roi\n",
        "result = cv2.addWeighted(roi, 1, logo, 1, 0)\n",
        "# Drawing\n",
        "cv2.line(image_logow, (0, center_y), (left_x, center_y), (0, 0, 255), 1)\n",
        "cv2.line(image_logow, (right_x, center_y), (w_image, center_y), (0, 0, 255), 1)\n",
        "# Replace the ROI on the image\n",
        "image_logow[top_y: bottom_y, left_x: right_x] = result"
      ],
      "metadata": {
        "id": "DgNrXg6FcFZJ"
      },
      "execution_count": null,
      "outputs": []
    },
    {
      "cell_type": "code",
      "source": [
        "# Ploting logo watermark image\n",
        "img = Image.fromarray(image_logow, 'RGB')\n",
        "img"
      ],
      "metadata": {
        "id": "F2yDiwcqcHgT"
      },
      "execution_count": null,
      "outputs": []
    },
    {
      "cell_type": "code",
      "source": [
        "# Text Watermark\n",
        "image_text = np.array(image_textw.convert('RGB'))\n",
        "cv2.putText(image_text, text='Pianalytix', org=(w_image - 95, h_image - 10), fontFace=cv2.FONT_HERSHEY_COMPLEX, fontScale=0.5,\n",
        "            color=(0,0,255), thickness=2, lineType=cv2.LINE_4);"
      ],
      "metadata": {
        "id": "eg9FECJvcJ88"
      },
      "execution_count": null,
      "outputs": []
    },
    {
      "cell_type": "code",
      "source": [
        "# Plotting text watermark image\n",
        "timg = Image.fromarray(image_text, 'RGB')\n",
        "timg"
      ],
      "metadata": {
        "id": "6n3Q3_FEcMQZ"
      },
      "execution_count": null,
      "outputs": []
    }
  ]
}