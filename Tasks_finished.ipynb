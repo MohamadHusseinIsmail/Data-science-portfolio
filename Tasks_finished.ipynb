{
  "nbformat": 4,
  "nbformat_minor": 0,
  "metadata": {
    "colab": {
      "provenance": [],
      "authorship_tag": "ABX9TyNYQcrP+yHtWJW4x3fRYjS/",
      "include_colab_link": true
    },
    "kernelspec": {
      "name": "python3",
      "display_name": "Python 3"
    },
    "language_info": {
      "name": "python"
    }
  },
  "cells": [
    {
      "cell_type": "markdown",
      "metadata": {
        "id": "view-in-github",
        "colab_type": "text"
      },
      "source": [
        "<a href=\"https://colab.research.google.com/github/MohamadHusseinIsmail/Data-science-portfolio/blob/main/Tasks_finished.ipynb\" target=\"_parent\"><img src=\"https://colab.research.google.com/assets/colab-badge.svg\" alt=\"Open In Colab\"/></a>"
      ]
    },
    {
      "cell_type": "code",
      "source": [
        "#Task 1"
      ],
      "metadata": {
        "id": "MrPypA3EBeDN"
      },
      "execution_count": null,
      "outputs": []
    },
    {
      "cell_type": "code",
      "execution_count": null,
      "metadata": {
        "id": "Tid8Qbv_DrEO"
      },
      "outputs": [],
      "source": [
        "import pandas as pd\n",
        "import matplotlib.pyplot as plt\n",
        "import numpy as np\n",
        "import seaborn as sns\n",
        "\n",
        "\n",
        "\n"
      ]
    },
    {
      "cell_type": "code",
      "source": [
        "df= pd.read_csv(\"/content/Dataset Cogz .csv\")\n",
        "df.head(10)"
      ],
      "metadata": {
        "colab": {
          "base_uri": "https://localhost:8080/",
          "height": 742
        },
        "id": "1GA6DIQ1FRpE",
        "outputId": "de48f998-aa8d-4d86-e427-61fa14f3d087"
      },
      "execution_count": null,
      "outputs": [
        {
          "output_type": "execute_result",
          "data": {
            "text/plain": [
              "   gender  age Investment_Avenues  Mutual_Funds  Equity_Market  Debentures  \\\n",
              "0  Female   34                Yes             1              2           5   \n",
              "1  Female   23                Yes             4              3           2   \n",
              "2    Male   30                Yes             3              6           4   \n",
              "3    Male   22                Yes             2              1           3   \n",
              "4  Female   24                 No             2              1           3   \n",
              "5  Female   24                 No             7              5           4   \n",
              "6  Female   27                Yes             3              6           4   \n",
              "7    Male   21                Yes             2              3           7   \n",
              "8    Male   35                Yes             2              4           7   \n",
              "9    Male   31                Yes             1              3           7   \n",
              "\n",
              "   Government_Bonds  Fixed_Deposits  PPF  Gold  ...           Duration  \\\n",
              "0                 3               7    6     4  ...          1-3 years   \n",
              "1                 1               5    6     7  ...  More than 5 years   \n",
              "2                 2               5    1     7  ...          3-5 years   \n",
              "3                 7               6    4     5  ...   Less than 1 year   \n",
              "4                 6               4    5     7  ...   Less than 1 year   \n",
              "5                 6               3    1     2  ...          1-3 years   \n",
              "6                 2               5    1     7  ...          3-5 years   \n",
              "7                 4               6    1     5  ...          3-5 years   \n",
              "8                 5               3    1     6  ...          1-3 years   \n",
              "9                 4               5    2     6  ...          3-5 years   \n",
              "\n",
              "  Invest_Monitor   Expect          Avenue What are your savings objectives?  \\\n",
              "0        Monthly  20%-30%     Mutual Fund                   Retirement Plan   \n",
              "1         Weekly  20%-30%     Mutual Fund                       Health Care   \n",
              "2          Daily  20%-30%          Equity                   Retirement Plan   \n",
              "3          Daily  10%-20%          Equity                   Retirement Plan   \n",
              "4          Daily  20%-30%          Equity                   Retirement Plan   \n",
              "5          Daily  30%-40%     Mutual Fund                   Retirement Plan   \n",
              "6        Monthly  20%-30%          Equity                   Retirement Plan   \n",
              "7        Monthly  20%-30%     Mutual Fund                   Retirement Plan   \n",
              "8         Weekly  20%-30%          Equity                   Retirement Plan   \n",
              "9        Monthly  30%-40%  Fixed Deposits                   Retirement Plan   \n",
              "\n",
              "          Reason_Equity         Reason_Mutual     Reason_Bonds  \\\n",
              "0  Capital Appreciation        Better Returns  Safe Investment   \n",
              "1              Dividend        Better Returns  Safe Investment   \n",
              "2  Capital Appreciation          Tax Benefits  Assured Returns   \n",
              "3              Dividend  Fund Diversification   Tax Incentives   \n",
              "4  Capital Appreciation        Better Returns  Safe Investment   \n",
              "5             Liquidity  Fund Diversification  Safe Investment   \n",
              "6  Capital Appreciation        Better Returns  Assured Returns   \n",
              "7  Capital Appreciation        Better Returns  Assured Returns   \n",
              "8  Capital Appreciation  Fund Diversification  Safe Investment   \n",
              "9  Capital Appreciation  Fund Diversification  Assured Returns   \n",
              "\n",
              "             Reason_FD                    Source  \n",
              "0        Fixed Returns  Newspapers and Magazines  \n",
              "1  High Interest Rates     Financial Consultants  \n",
              "2        Fixed Returns                Television  \n",
              "3  High Interest Rates                  Internet  \n",
              "4            Risk Free                  Internet  \n",
              "5            Risk Free                  Internet  \n",
              "6  High Interest Rates     Financial Consultants  \n",
              "7            Risk Free  Newspapers and Magazines  \n",
              "8        Fixed Returns                Television  \n",
              "9        Fixed Returns  Newspapers and Magazines  \n",
              "\n",
              "[10 rows x 24 columns]"
            ],
            "text/html": [
              "\n",
              "  <div id=\"df-dd884690-64d6-4687-a3b9-e95a2572d1a0\" class=\"colab-df-container\">\n",
              "    <div>\n",
              "<style scoped>\n",
              "    .dataframe tbody tr th:only-of-type {\n",
              "        vertical-align: middle;\n",
              "    }\n",
              "\n",
              "    .dataframe tbody tr th {\n",
              "        vertical-align: top;\n",
              "    }\n",
              "\n",
              "    .dataframe thead th {\n",
              "        text-align: right;\n",
              "    }\n",
              "</style>\n",
              "<table border=\"1\" class=\"dataframe\">\n",
              "  <thead>\n",
              "    <tr style=\"text-align: right;\">\n",
              "      <th></th>\n",
              "      <th>gender</th>\n",
              "      <th>age</th>\n",
              "      <th>Investment_Avenues</th>\n",
              "      <th>Mutual_Funds</th>\n",
              "      <th>Equity_Market</th>\n",
              "      <th>Debentures</th>\n",
              "      <th>Government_Bonds</th>\n",
              "      <th>Fixed_Deposits</th>\n",
              "      <th>PPF</th>\n",
              "      <th>Gold</th>\n",
              "      <th>...</th>\n",
              "      <th>Duration</th>\n",
              "      <th>Invest_Monitor</th>\n",
              "      <th>Expect</th>\n",
              "      <th>Avenue</th>\n",
              "      <th>What are your savings objectives?</th>\n",
              "      <th>Reason_Equity</th>\n",
              "      <th>Reason_Mutual</th>\n",
              "      <th>Reason_Bonds</th>\n",
              "      <th>Reason_FD</th>\n",
              "      <th>Source</th>\n",
              "    </tr>\n",
              "  </thead>\n",
              "  <tbody>\n",
              "    <tr>\n",
              "      <th>0</th>\n",
              "      <td>Female</td>\n",
              "      <td>34</td>\n",
              "      <td>Yes</td>\n",
              "      <td>1</td>\n",
              "      <td>2</td>\n",
              "      <td>5</td>\n",
              "      <td>3</td>\n",
              "      <td>7</td>\n",
              "      <td>6</td>\n",
              "      <td>4</td>\n",
              "      <td>...</td>\n",
              "      <td>1-3 years</td>\n",
              "      <td>Monthly</td>\n",
              "      <td>20%-30%</td>\n",
              "      <td>Mutual Fund</td>\n",
              "      <td>Retirement Plan</td>\n",
              "      <td>Capital Appreciation</td>\n",
              "      <td>Better Returns</td>\n",
              "      <td>Safe Investment</td>\n",
              "      <td>Fixed Returns</td>\n",
              "      <td>Newspapers and Magazines</td>\n",
              "    </tr>\n",
              "    <tr>\n",
              "      <th>1</th>\n",
              "      <td>Female</td>\n",
              "      <td>23</td>\n",
              "      <td>Yes</td>\n",
              "      <td>4</td>\n",
              "      <td>3</td>\n",
              "      <td>2</td>\n",
              "      <td>1</td>\n",
              "      <td>5</td>\n",
              "      <td>6</td>\n",
              "      <td>7</td>\n",
              "      <td>...</td>\n",
              "      <td>More than 5 years</td>\n",
              "      <td>Weekly</td>\n",
              "      <td>20%-30%</td>\n",
              "      <td>Mutual Fund</td>\n",
              "      <td>Health Care</td>\n",
              "      <td>Dividend</td>\n",
              "      <td>Better Returns</td>\n",
              "      <td>Safe Investment</td>\n",
              "      <td>High Interest Rates</td>\n",
              "      <td>Financial Consultants</td>\n",
              "    </tr>\n",
              "    <tr>\n",
              "      <th>2</th>\n",
              "      <td>Male</td>\n",
              "      <td>30</td>\n",
              "      <td>Yes</td>\n",
              "      <td>3</td>\n",
              "      <td>6</td>\n",
              "      <td>4</td>\n",
              "      <td>2</td>\n",
              "      <td>5</td>\n",
              "      <td>1</td>\n",
              "      <td>7</td>\n",
              "      <td>...</td>\n",
              "      <td>3-5 years</td>\n",
              "      <td>Daily</td>\n",
              "      <td>20%-30%</td>\n",
              "      <td>Equity</td>\n",
              "      <td>Retirement Plan</td>\n",
              "      <td>Capital Appreciation</td>\n",
              "      <td>Tax Benefits</td>\n",
              "      <td>Assured Returns</td>\n",
              "      <td>Fixed Returns</td>\n",
              "      <td>Television</td>\n",
              "    </tr>\n",
              "    <tr>\n",
              "      <th>3</th>\n",
              "      <td>Male</td>\n",
              "      <td>22</td>\n",
              "      <td>Yes</td>\n",
              "      <td>2</td>\n",
              "      <td>1</td>\n",
              "      <td>3</td>\n",
              "      <td>7</td>\n",
              "      <td>6</td>\n",
              "      <td>4</td>\n",
              "      <td>5</td>\n",
              "      <td>...</td>\n",
              "      <td>Less than 1 year</td>\n",
              "      <td>Daily</td>\n",
              "      <td>10%-20%</td>\n",
              "      <td>Equity</td>\n",
              "      <td>Retirement Plan</td>\n",
              "      <td>Dividend</td>\n",
              "      <td>Fund Diversification</td>\n",
              "      <td>Tax Incentives</td>\n",
              "      <td>High Interest Rates</td>\n",
              "      <td>Internet</td>\n",
              "    </tr>\n",
              "    <tr>\n",
              "      <th>4</th>\n",
              "      <td>Female</td>\n",
              "      <td>24</td>\n",
              "      <td>No</td>\n",
              "      <td>2</td>\n",
              "      <td>1</td>\n",
              "      <td>3</td>\n",
              "      <td>6</td>\n",
              "      <td>4</td>\n",
              "      <td>5</td>\n",
              "      <td>7</td>\n",
              "      <td>...</td>\n",
              "      <td>Less than 1 year</td>\n",
              "      <td>Daily</td>\n",
              "      <td>20%-30%</td>\n",
              "      <td>Equity</td>\n",
              "      <td>Retirement Plan</td>\n",
              "      <td>Capital Appreciation</td>\n",
              "      <td>Better Returns</td>\n",
              "      <td>Safe Investment</td>\n",
              "      <td>Risk Free</td>\n",
              "      <td>Internet</td>\n",
              "    </tr>\n",
              "    <tr>\n",
              "      <th>5</th>\n",
              "      <td>Female</td>\n",
              "      <td>24</td>\n",
              "      <td>No</td>\n",
              "      <td>7</td>\n",
              "      <td>5</td>\n",
              "      <td>4</td>\n",
              "      <td>6</td>\n",
              "      <td>3</td>\n",
              "      <td>1</td>\n",
              "      <td>2</td>\n",
              "      <td>...</td>\n",
              "      <td>1-3 years</td>\n",
              "      <td>Daily</td>\n",
              "      <td>30%-40%</td>\n",
              "      <td>Mutual Fund</td>\n",
              "      <td>Retirement Plan</td>\n",
              "      <td>Liquidity</td>\n",
              "      <td>Fund Diversification</td>\n",
              "      <td>Safe Investment</td>\n",
              "      <td>Risk Free</td>\n",
              "      <td>Internet</td>\n",
              "    </tr>\n",
              "    <tr>\n",
              "      <th>6</th>\n",
              "      <td>Female</td>\n",
              "      <td>27</td>\n",
              "      <td>Yes</td>\n",
              "      <td>3</td>\n",
              "      <td>6</td>\n",
              "      <td>4</td>\n",
              "      <td>2</td>\n",
              "      <td>5</td>\n",
              "      <td>1</td>\n",
              "      <td>7</td>\n",
              "      <td>...</td>\n",
              "      <td>3-5 years</td>\n",
              "      <td>Monthly</td>\n",
              "      <td>20%-30%</td>\n",
              "      <td>Equity</td>\n",
              "      <td>Retirement Plan</td>\n",
              "      <td>Capital Appreciation</td>\n",
              "      <td>Better Returns</td>\n",
              "      <td>Assured Returns</td>\n",
              "      <td>High Interest Rates</td>\n",
              "      <td>Financial Consultants</td>\n",
              "    </tr>\n",
              "    <tr>\n",
              "      <th>7</th>\n",
              "      <td>Male</td>\n",
              "      <td>21</td>\n",
              "      <td>Yes</td>\n",
              "      <td>2</td>\n",
              "      <td>3</td>\n",
              "      <td>7</td>\n",
              "      <td>4</td>\n",
              "      <td>6</td>\n",
              "      <td>1</td>\n",
              "      <td>5</td>\n",
              "      <td>...</td>\n",
              "      <td>3-5 years</td>\n",
              "      <td>Monthly</td>\n",
              "      <td>20%-30%</td>\n",
              "      <td>Mutual Fund</td>\n",
              "      <td>Retirement Plan</td>\n",
              "      <td>Capital Appreciation</td>\n",
              "      <td>Better Returns</td>\n",
              "      <td>Assured Returns</td>\n",
              "      <td>Risk Free</td>\n",
              "      <td>Newspapers and Magazines</td>\n",
              "    </tr>\n",
              "    <tr>\n",
              "      <th>8</th>\n",
              "      <td>Male</td>\n",
              "      <td>35</td>\n",
              "      <td>Yes</td>\n",
              "      <td>2</td>\n",
              "      <td>4</td>\n",
              "      <td>7</td>\n",
              "      <td>5</td>\n",
              "      <td>3</td>\n",
              "      <td>1</td>\n",
              "      <td>6</td>\n",
              "      <td>...</td>\n",
              "      <td>1-3 years</td>\n",
              "      <td>Weekly</td>\n",
              "      <td>20%-30%</td>\n",
              "      <td>Equity</td>\n",
              "      <td>Retirement Plan</td>\n",
              "      <td>Capital Appreciation</td>\n",
              "      <td>Fund Diversification</td>\n",
              "      <td>Safe Investment</td>\n",
              "      <td>Fixed Returns</td>\n",
              "      <td>Television</td>\n",
              "    </tr>\n",
              "    <tr>\n",
              "      <th>9</th>\n",
              "      <td>Male</td>\n",
              "      <td>31</td>\n",
              "      <td>Yes</td>\n",
              "      <td>1</td>\n",
              "      <td>3</td>\n",
              "      <td>7</td>\n",
              "      <td>4</td>\n",
              "      <td>5</td>\n",
              "      <td>2</td>\n",
              "      <td>6</td>\n",
              "      <td>...</td>\n",
              "      <td>3-5 years</td>\n",
              "      <td>Monthly</td>\n",
              "      <td>30%-40%</td>\n",
              "      <td>Fixed Deposits</td>\n",
              "      <td>Retirement Plan</td>\n",
              "      <td>Capital Appreciation</td>\n",
              "      <td>Fund Diversification</td>\n",
              "      <td>Assured Returns</td>\n",
              "      <td>Fixed Returns</td>\n",
              "      <td>Newspapers and Magazines</td>\n",
              "    </tr>\n",
              "  </tbody>\n",
              "</table>\n",
              "<p>10 rows × 24 columns</p>\n",
              "</div>\n",
              "    <div class=\"colab-df-buttons\">\n",
              "\n",
              "  <div class=\"colab-df-container\">\n",
              "    <button class=\"colab-df-convert\" onclick=\"convertToInteractive('df-dd884690-64d6-4687-a3b9-e95a2572d1a0')\"\n",
              "            title=\"Convert this dataframe to an interactive table.\"\n",
              "            style=\"display:none;\">\n",
              "\n",
              "  <svg xmlns=\"http://www.w3.org/2000/svg\" height=\"24px\" viewBox=\"0 -960 960 960\">\n",
              "    <path d=\"M120-120v-720h720v720H120Zm60-500h600v-160H180v160Zm220 220h160v-160H400v160Zm0 220h160v-160H400v160ZM180-400h160v-160H180v160Zm440 0h160v-160H620v160ZM180-180h160v-160H180v160Zm440 0h160v-160H620v160Z\"/>\n",
              "  </svg>\n",
              "    </button>\n",
              "\n",
              "  <style>\n",
              "    .colab-df-container {\n",
              "      display:flex;\n",
              "      gap: 12px;\n",
              "    }\n",
              "\n",
              "    .colab-df-convert {\n",
              "      background-color: #E8F0FE;\n",
              "      border: none;\n",
              "      border-radius: 50%;\n",
              "      cursor: pointer;\n",
              "      display: none;\n",
              "      fill: #1967D2;\n",
              "      height: 32px;\n",
              "      padding: 0 0 0 0;\n",
              "      width: 32px;\n",
              "    }\n",
              "\n",
              "    .colab-df-convert:hover {\n",
              "      background-color: #E2EBFA;\n",
              "      box-shadow: 0px 1px 2px rgba(60, 64, 67, 0.3), 0px 1px 3px 1px rgba(60, 64, 67, 0.15);\n",
              "      fill: #174EA6;\n",
              "    }\n",
              "\n",
              "    .colab-df-buttons div {\n",
              "      margin-bottom: 4px;\n",
              "    }\n",
              "\n",
              "    [theme=dark] .colab-df-convert {\n",
              "      background-color: #3B4455;\n",
              "      fill: #D2E3FC;\n",
              "    }\n",
              "\n",
              "    [theme=dark] .colab-df-convert:hover {\n",
              "      background-color: #434B5C;\n",
              "      box-shadow: 0px 1px 3px 1px rgba(0, 0, 0, 0.15);\n",
              "      filter: drop-shadow(0px 1px 2px rgba(0, 0, 0, 0.3));\n",
              "      fill: #FFFFFF;\n",
              "    }\n",
              "  </style>\n",
              "\n",
              "    <script>\n",
              "      const buttonEl =\n",
              "        document.querySelector('#df-dd884690-64d6-4687-a3b9-e95a2572d1a0 button.colab-df-convert');\n",
              "      buttonEl.style.display =\n",
              "        google.colab.kernel.accessAllowed ? 'block' : 'none';\n",
              "\n",
              "      async function convertToInteractive(key) {\n",
              "        const element = document.querySelector('#df-dd884690-64d6-4687-a3b9-e95a2572d1a0');\n",
              "        const dataTable =\n",
              "          await google.colab.kernel.invokeFunction('convertToInteractive',\n",
              "                                                    [key], {});\n",
              "        if (!dataTable) return;\n",
              "\n",
              "        const docLinkHtml = 'Like what you see? Visit the ' +\n",
              "          '<a target=\"_blank\" href=https://colab.research.google.com/notebooks/data_table.ipynb>data table notebook</a>'\n",
              "          + ' to learn more about interactive tables.';\n",
              "        element.innerHTML = '';\n",
              "        dataTable['output_type'] = 'display_data';\n",
              "        await google.colab.output.renderOutput(dataTable, element);\n",
              "        const docLink = document.createElement('div');\n",
              "        docLink.innerHTML = docLinkHtml;\n",
              "        element.appendChild(docLink);\n",
              "      }\n",
              "    </script>\n",
              "  </div>\n",
              "\n",
              "\n",
              "<div id=\"df-c6da8322-5284-490a-8c43-b534d732f3a4\">\n",
              "  <button class=\"colab-df-quickchart\" onclick=\"quickchart('df-c6da8322-5284-490a-8c43-b534d732f3a4')\"\n",
              "            title=\"Suggest charts\"\n",
              "            style=\"display:none;\">\n",
              "\n",
              "<svg xmlns=\"http://www.w3.org/2000/svg\" height=\"24px\"viewBox=\"0 0 24 24\"\n",
              "     width=\"24px\">\n",
              "    <g>\n",
              "        <path d=\"M19 3H5c-1.1 0-2 .9-2 2v14c0 1.1.9 2 2 2h14c1.1 0 2-.9 2-2V5c0-1.1-.9-2-2-2zM9 17H7v-7h2v7zm4 0h-2V7h2v10zm4 0h-2v-4h2v4z\"/>\n",
              "    </g>\n",
              "</svg>\n",
              "  </button>\n",
              "\n",
              "<style>\n",
              "  .colab-df-quickchart {\n",
              "      --bg-color: #E8F0FE;\n",
              "      --fill-color: #1967D2;\n",
              "      --hover-bg-color: #E2EBFA;\n",
              "      --hover-fill-color: #174EA6;\n",
              "      --disabled-fill-color: #AAA;\n",
              "      --disabled-bg-color: #DDD;\n",
              "  }\n",
              "\n",
              "  [theme=dark] .colab-df-quickchart {\n",
              "      --bg-color: #3B4455;\n",
              "      --fill-color: #D2E3FC;\n",
              "      --hover-bg-color: #434B5C;\n",
              "      --hover-fill-color: #FFFFFF;\n",
              "      --disabled-bg-color: #3B4455;\n",
              "      --disabled-fill-color: #666;\n",
              "  }\n",
              "\n",
              "  .colab-df-quickchart {\n",
              "    background-color: var(--bg-color);\n",
              "    border: none;\n",
              "    border-radius: 50%;\n",
              "    cursor: pointer;\n",
              "    display: none;\n",
              "    fill: var(--fill-color);\n",
              "    height: 32px;\n",
              "    padding: 0;\n",
              "    width: 32px;\n",
              "  }\n",
              "\n",
              "  .colab-df-quickchart:hover {\n",
              "    background-color: var(--hover-bg-color);\n",
              "    box-shadow: 0 1px 2px rgba(60, 64, 67, 0.3), 0 1px 3px 1px rgba(60, 64, 67, 0.15);\n",
              "    fill: var(--button-hover-fill-color);\n",
              "  }\n",
              "\n",
              "  .colab-df-quickchart-complete:disabled,\n",
              "  .colab-df-quickchart-complete:disabled:hover {\n",
              "    background-color: var(--disabled-bg-color);\n",
              "    fill: var(--disabled-fill-color);\n",
              "    box-shadow: none;\n",
              "  }\n",
              "\n",
              "  .colab-df-spinner {\n",
              "    border: 2px solid var(--fill-color);\n",
              "    border-color: transparent;\n",
              "    border-bottom-color: var(--fill-color);\n",
              "    animation:\n",
              "      spin 1s steps(1) infinite;\n",
              "  }\n",
              "\n",
              "  @keyframes spin {\n",
              "    0% {\n",
              "      border-color: transparent;\n",
              "      border-bottom-color: var(--fill-color);\n",
              "      border-left-color: var(--fill-color);\n",
              "    }\n",
              "    20% {\n",
              "      border-color: transparent;\n",
              "      border-left-color: var(--fill-color);\n",
              "      border-top-color: var(--fill-color);\n",
              "    }\n",
              "    30% {\n",
              "      border-color: transparent;\n",
              "      border-left-color: var(--fill-color);\n",
              "      border-top-color: var(--fill-color);\n",
              "      border-right-color: var(--fill-color);\n",
              "    }\n",
              "    40% {\n",
              "      border-color: transparent;\n",
              "      border-right-color: var(--fill-color);\n",
              "      border-top-color: var(--fill-color);\n",
              "    }\n",
              "    60% {\n",
              "      border-color: transparent;\n",
              "      border-right-color: var(--fill-color);\n",
              "    }\n",
              "    80% {\n",
              "      border-color: transparent;\n",
              "      border-right-color: var(--fill-color);\n",
              "      border-bottom-color: var(--fill-color);\n",
              "    }\n",
              "    90% {\n",
              "      border-color: transparent;\n",
              "      border-bottom-color: var(--fill-color);\n",
              "    }\n",
              "  }\n",
              "</style>\n",
              "\n",
              "  <script>\n",
              "    async function quickchart(key) {\n",
              "      const quickchartButtonEl =\n",
              "        document.querySelector('#' + key + ' button');\n",
              "      quickchartButtonEl.disabled = true;  // To prevent multiple clicks.\n",
              "      quickchartButtonEl.classList.add('colab-df-spinner');\n",
              "      try {\n",
              "        const charts = await google.colab.kernel.invokeFunction(\n",
              "            'suggestCharts', [key], {});\n",
              "      } catch (error) {\n",
              "        console.error('Error during call to suggestCharts:', error);\n",
              "      }\n",
              "      quickchartButtonEl.classList.remove('colab-df-spinner');\n",
              "      quickchartButtonEl.classList.add('colab-df-quickchart-complete');\n",
              "    }\n",
              "    (() => {\n",
              "      let quickchartButtonEl =\n",
              "        document.querySelector('#df-c6da8322-5284-490a-8c43-b534d732f3a4 button');\n",
              "      quickchartButtonEl.style.display =\n",
              "        google.colab.kernel.accessAllowed ? 'block' : 'none';\n",
              "    })();\n",
              "  </script>\n",
              "</div>\n",
              "    </div>\n",
              "  </div>\n"
            ],
            "application/vnd.google.colaboratory.intrinsic+json": {
              "type": "dataframe",
              "variable_name": "df"
            }
          },
          "metadata": {},
          "execution_count": 3
        }
      ]
    },
    {
      "cell_type": "code",
      "source": [
        "df.describe()"
      ],
      "metadata": {
        "colab": {
          "base_uri": "https://localhost:8080/",
          "height": 300
        },
        "id": "udp4ZHxPKCo-",
        "outputId": "a45e8de8-3891-4975-d448-9c45921fe1ef"
      },
      "execution_count": null,
      "outputs": [
        {
          "output_type": "execute_result",
          "data": {
            "text/plain": [
              "             age  Mutual_Funds  Equity_Market  Debentures  Government_Bonds  \\\n",
              "count  40.000000     40.000000      40.000000   40.000000         40.000000   \n",
              "mean   27.800000      2.550000       3.475000    5.750000          4.650000   \n",
              "std     3.560467      1.197219       1.131994    1.675617          1.369072   \n",
              "min    21.000000      1.000000       1.000000    1.000000          1.000000   \n",
              "25%    25.750000      2.000000       3.000000    5.000000          4.000000   \n",
              "50%    27.000000      2.000000       4.000000    6.500000          5.000000   \n",
              "75%    30.000000      3.000000       4.000000    7.000000          5.000000   \n",
              "max    35.000000      7.000000       6.000000    7.000000          7.000000   \n",
              "\n",
              "       Fixed_Deposits        PPF       Gold  \n",
              "count       40.000000  40.000000  40.000000  \n",
              "mean         3.575000   2.025000   5.975000  \n",
              "std          1.795828   1.609069   1.143263  \n",
              "min          1.000000   1.000000   2.000000  \n",
              "25%          2.750000   1.000000   6.000000  \n",
              "50%          3.500000   1.000000   6.000000  \n",
              "75%          5.000000   2.250000   7.000000  \n",
              "max          7.000000   6.000000   7.000000  "
            ],
            "text/html": [
              "\n",
              "  <div id=\"df-a544db19-c4c4-4695-adbe-64632f06f3d8\" class=\"colab-df-container\">\n",
              "    <div>\n",
              "<style scoped>\n",
              "    .dataframe tbody tr th:only-of-type {\n",
              "        vertical-align: middle;\n",
              "    }\n",
              "\n",
              "    .dataframe tbody tr th {\n",
              "        vertical-align: top;\n",
              "    }\n",
              "\n",
              "    .dataframe thead th {\n",
              "        text-align: right;\n",
              "    }\n",
              "</style>\n",
              "<table border=\"1\" class=\"dataframe\">\n",
              "  <thead>\n",
              "    <tr style=\"text-align: right;\">\n",
              "      <th></th>\n",
              "      <th>age</th>\n",
              "      <th>Mutual_Funds</th>\n",
              "      <th>Equity_Market</th>\n",
              "      <th>Debentures</th>\n",
              "      <th>Government_Bonds</th>\n",
              "      <th>Fixed_Deposits</th>\n",
              "      <th>PPF</th>\n",
              "      <th>Gold</th>\n",
              "    </tr>\n",
              "  </thead>\n",
              "  <tbody>\n",
              "    <tr>\n",
              "      <th>count</th>\n",
              "      <td>40.000000</td>\n",
              "      <td>40.000000</td>\n",
              "      <td>40.000000</td>\n",
              "      <td>40.000000</td>\n",
              "      <td>40.000000</td>\n",
              "      <td>40.000000</td>\n",
              "      <td>40.000000</td>\n",
              "      <td>40.000000</td>\n",
              "    </tr>\n",
              "    <tr>\n",
              "      <th>mean</th>\n",
              "      <td>27.800000</td>\n",
              "      <td>2.550000</td>\n",
              "      <td>3.475000</td>\n",
              "      <td>5.750000</td>\n",
              "      <td>4.650000</td>\n",
              "      <td>3.575000</td>\n",
              "      <td>2.025000</td>\n",
              "      <td>5.975000</td>\n",
              "    </tr>\n",
              "    <tr>\n",
              "      <th>std</th>\n",
              "      <td>3.560467</td>\n",
              "      <td>1.197219</td>\n",
              "      <td>1.131994</td>\n",
              "      <td>1.675617</td>\n",
              "      <td>1.369072</td>\n",
              "      <td>1.795828</td>\n",
              "      <td>1.609069</td>\n",
              "      <td>1.143263</td>\n",
              "    </tr>\n",
              "    <tr>\n",
              "      <th>min</th>\n",
              "      <td>21.000000</td>\n",
              "      <td>1.000000</td>\n",
              "      <td>1.000000</td>\n",
              "      <td>1.000000</td>\n",
              "      <td>1.000000</td>\n",
              "      <td>1.000000</td>\n",
              "      <td>1.000000</td>\n",
              "      <td>2.000000</td>\n",
              "    </tr>\n",
              "    <tr>\n",
              "      <th>25%</th>\n",
              "      <td>25.750000</td>\n",
              "      <td>2.000000</td>\n",
              "      <td>3.000000</td>\n",
              "      <td>5.000000</td>\n",
              "      <td>4.000000</td>\n",
              "      <td>2.750000</td>\n",
              "      <td>1.000000</td>\n",
              "      <td>6.000000</td>\n",
              "    </tr>\n",
              "    <tr>\n",
              "      <th>50%</th>\n",
              "      <td>27.000000</td>\n",
              "      <td>2.000000</td>\n",
              "      <td>4.000000</td>\n",
              "      <td>6.500000</td>\n",
              "      <td>5.000000</td>\n",
              "      <td>3.500000</td>\n",
              "      <td>1.000000</td>\n",
              "      <td>6.000000</td>\n",
              "    </tr>\n",
              "    <tr>\n",
              "      <th>75%</th>\n",
              "      <td>30.000000</td>\n",
              "      <td>3.000000</td>\n",
              "      <td>4.000000</td>\n",
              "      <td>7.000000</td>\n",
              "      <td>5.000000</td>\n",
              "      <td>5.000000</td>\n",
              "      <td>2.250000</td>\n",
              "      <td>7.000000</td>\n",
              "    </tr>\n",
              "    <tr>\n",
              "      <th>max</th>\n",
              "      <td>35.000000</td>\n",
              "      <td>7.000000</td>\n",
              "      <td>6.000000</td>\n",
              "      <td>7.000000</td>\n",
              "      <td>7.000000</td>\n",
              "      <td>7.000000</td>\n",
              "      <td>6.000000</td>\n",
              "      <td>7.000000</td>\n",
              "    </tr>\n",
              "  </tbody>\n",
              "</table>\n",
              "</div>\n",
              "    <div class=\"colab-df-buttons\">\n",
              "\n",
              "  <div class=\"colab-df-container\">\n",
              "    <button class=\"colab-df-convert\" onclick=\"convertToInteractive('df-a544db19-c4c4-4695-adbe-64632f06f3d8')\"\n",
              "            title=\"Convert this dataframe to an interactive table.\"\n",
              "            style=\"display:none;\">\n",
              "\n",
              "  <svg xmlns=\"http://www.w3.org/2000/svg\" height=\"24px\" viewBox=\"0 -960 960 960\">\n",
              "    <path d=\"M120-120v-720h720v720H120Zm60-500h600v-160H180v160Zm220 220h160v-160H400v160Zm0 220h160v-160H400v160ZM180-400h160v-160H180v160Zm440 0h160v-160H620v160ZM180-180h160v-160H180v160Zm440 0h160v-160H620v160Z\"/>\n",
              "  </svg>\n",
              "    </button>\n",
              "\n",
              "  <style>\n",
              "    .colab-df-container {\n",
              "      display:flex;\n",
              "      gap: 12px;\n",
              "    }\n",
              "\n",
              "    .colab-df-convert {\n",
              "      background-color: #E8F0FE;\n",
              "      border: none;\n",
              "      border-radius: 50%;\n",
              "      cursor: pointer;\n",
              "      display: none;\n",
              "      fill: #1967D2;\n",
              "      height: 32px;\n",
              "      padding: 0 0 0 0;\n",
              "      width: 32px;\n",
              "    }\n",
              "\n",
              "    .colab-df-convert:hover {\n",
              "      background-color: #E2EBFA;\n",
              "      box-shadow: 0px 1px 2px rgba(60, 64, 67, 0.3), 0px 1px 3px 1px rgba(60, 64, 67, 0.15);\n",
              "      fill: #174EA6;\n",
              "    }\n",
              "\n",
              "    .colab-df-buttons div {\n",
              "      margin-bottom: 4px;\n",
              "    }\n",
              "\n",
              "    [theme=dark] .colab-df-convert {\n",
              "      background-color: #3B4455;\n",
              "      fill: #D2E3FC;\n",
              "    }\n",
              "\n",
              "    [theme=dark] .colab-df-convert:hover {\n",
              "      background-color: #434B5C;\n",
              "      box-shadow: 0px 1px 3px 1px rgba(0, 0, 0, 0.15);\n",
              "      filter: drop-shadow(0px 1px 2px rgba(0, 0, 0, 0.3));\n",
              "      fill: #FFFFFF;\n",
              "    }\n",
              "  </style>\n",
              "\n",
              "    <script>\n",
              "      const buttonEl =\n",
              "        document.querySelector('#df-a544db19-c4c4-4695-adbe-64632f06f3d8 button.colab-df-convert');\n",
              "      buttonEl.style.display =\n",
              "        google.colab.kernel.accessAllowed ? 'block' : 'none';\n",
              "\n",
              "      async function convertToInteractive(key) {\n",
              "        const element = document.querySelector('#df-a544db19-c4c4-4695-adbe-64632f06f3d8');\n",
              "        const dataTable =\n",
              "          await google.colab.kernel.invokeFunction('convertToInteractive',\n",
              "                                                    [key], {});\n",
              "        if (!dataTable) return;\n",
              "\n",
              "        const docLinkHtml = 'Like what you see? Visit the ' +\n",
              "          '<a target=\"_blank\" href=https://colab.research.google.com/notebooks/data_table.ipynb>data table notebook</a>'\n",
              "          + ' to learn more about interactive tables.';\n",
              "        element.innerHTML = '';\n",
              "        dataTable['output_type'] = 'display_data';\n",
              "        await google.colab.output.renderOutput(dataTable, element);\n",
              "        const docLink = document.createElement('div');\n",
              "        docLink.innerHTML = docLinkHtml;\n",
              "        element.appendChild(docLink);\n",
              "      }\n",
              "    </script>\n",
              "  </div>\n",
              "\n",
              "\n",
              "<div id=\"df-0f6ce5fa-efbe-4026-b3f1-18f13e6a081b\">\n",
              "  <button class=\"colab-df-quickchart\" onclick=\"quickchart('df-0f6ce5fa-efbe-4026-b3f1-18f13e6a081b')\"\n",
              "            title=\"Suggest charts\"\n",
              "            style=\"display:none;\">\n",
              "\n",
              "<svg xmlns=\"http://www.w3.org/2000/svg\" height=\"24px\"viewBox=\"0 0 24 24\"\n",
              "     width=\"24px\">\n",
              "    <g>\n",
              "        <path d=\"M19 3H5c-1.1 0-2 .9-2 2v14c0 1.1.9 2 2 2h14c1.1 0 2-.9 2-2V5c0-1.1-.9-2-2-2zM9 17H7v-7h2v7zm4 0h-2V7h2v10zm4 0h-2v-4h2v4z\"/>\n",
              "    </g>\n",
              "</svg>\n",
              "  </button>\n",
              "\n",
              "<style>\n",
              "  .colab-df-quickchart {\n",
              "      --bg-color: #E8F0FE;\n",
              "      --fill-color: #1967D2;\n",
              "      --hover-bg-color: #E2EBFA;\n",
              "      --hover-fill-color: #174EA6;\n",
              "      --disabled-fill-color: #AAA;\n",
              "      --disabled-bg-color: #DDD;\n",
              "  }\n",
              "\n",
              "  [theme=dark] .colab-df-quickchart {\n",
              "      --bg-color: #3B4455;\n",
              "      --fill-color: #D2E3FC;\n",
              "      --hover-bg-color: #434B5C;\n",
              "      --hover-fill-color: #FFFFFF;\n",
              "      --disabled-bg-color: #3B4455;\n",
              "      --disabled-fill-color: #666;\n",
              "  }\n",
              "\n",
              "  .colab-df-quickchart {\n",
              "    background-color: var(--bg-color);\n",
              "    border: none;\n",
              "    border-radius: 50%;\n",
              "    cursor: pointer;\n",
              "    display: none;\n",
              "    fill: var(--fill-color);\n",
              "    height: 32px;\n",
              "    padding: 0;\n",
              "    width: 32px;\n",
              "  }\n",
              "\n",
              "  .colab-df-quickchart:hover {\n",
              "    background-color: var(--hover-bg-color);\n",
              "    box-shadow: 0 1px 2px rgba(60, 64, 67, 0.3), 0 1px 3px 1px rgba(60, 64, 67, 0.15);\n",
              "    fill: var(--button-hover-fill-color);\n",
              "  }\n",
              "\n",
              "  .colab-df-quickchart-complete:disabled,\n",
              "  .colab-df-quickchart-complete:disabled:hover {\n",
              "    background-color: var(--disabled-bg-color);\n",
              "    fill: var(--disabled-fill-color);\n",
              "    box-shadow: none;\n",
              "  }\n",
              "\n",
              "  .colab-df-spinner {\n",
              "    border: 2px solid var(--fill-color);\n",
              "    border-color: transparent;\n",
              "    border-bottom-color: var(--fill-color);\n",
              "    animation:\n",
              "      spin 1s steps(1) infinite;\n",
              "  }\n",
              "\n",
              "  @keyframes spin {\n",
              "    0% {\n",
              "      border-color: transparent;\n",
              "      border-bottom-color: var(--fill-color);\n",
              "      border-left-color: var(--fill-color);\n",
              "    }\n",
              "    20% {\n",
              "      border-color: transparent;\n",
              "      border-left-color: var(--fill-color);\n",
              "      border-top-color: var(--fill-color);\n",
              "    }\n",
              "    30% {\n",
              "      border-color: transparent;\n",
              "      border-left-color: var(--fill-color);\n",
              "      border-top-color: var(--fill-color);\n",
              "      border-right-color: var(--fill-color);\n",
              "    }\n",
              "    40% {\n",
              "      border-color: transparent;\n",
              "      border-right-color: var(--fill-color);\n",
              "      border-top-color: var(--fill-color);\n",
              "    }\n",
              "    60% {\n",
              "      border-color: transparent;\n",
              "      border-right-color: var(--fill-color);\n",
              "    }\n",
              "    80% {\n",
              "      border-color: transparent;\n",
              "      border-right-color: var(--fill-color);\n",
              "      border-bottom-color: var(--fill-color);\n",
              "    }\n",
              "    90% {\n",
              "      border-color: transparent;\n",
              "      border-bottom-color: var(--fill-color);\n",
              "    }\n",
              "  }\n",
              "</style>\n",
              "\n",
              "  <script>\n",
              "    async function quickchart(key) {\n",
              "      const quickchartButtonEl =\n",
              "        document.querySelector('#' + key + ' button');\n",
              "      quickchartButtonEl.disabled = true;  // To prevent multiple clicks.\n",
              "      quickchartButtonEl.classList.add('colab-df-spinner');\n",
              "      try {\n",
              "        const charts = await google.colab.kernel.invokeFunction(\n",
              "            'suggestCharts', [key], {});\n",
              "      } catch (error) {\n",
              "        console.error('Error during call to suggestCharts:', error);\n",
              "      }\n",
              "      quickchartButtonEl.classList.remove('colab-df-spinner');\n",
              "      quickchartButtonEl.classList.add('colab-df-quickchart-complete');\n",
              "    }\n",
              "    (() => {\n",
              "      let quickchartButtonEl =\n",
              "        document.querySelector('#df-0f6ce5fa-efbe-4026-b3f1-18f13e6a081b button');\n",
              "      quickchartButtonEl.style.display =\n",
              "        google.colab.kernel.accessAllowed ? 'block' : 'none';\n",
              "    })();\n",
              "  </script>\n",
              "</div>\n",
              "    </div>\n",
              "  </div>\n"
            ],
            "application/vnd.google.colaboratory.intrinsic+json": {
              "type": "dataframe",
              "summary": "{\n  \"name\": \"df\",\n  \"rows\": 8,\n  \"fields\": [\n    {\n      \"column\": \"age\",\n      \"properties\": {\n        \"dtype\": \"number\",\n        \"std\": 10.858034525486168,\n        \"min\": 3.560466693696639,\n        \"max\": 40.0,\n        \"num_unique_values\": 8,\n        \"samples\": [\n          27.8,\n          27.0,\n          40.0\n        ],\n        \"semantic_type\": \"\",\n        \"description\": \"\"\n      }\n    },\n    {\n      \"column\": \"Mutual_Funds\",\n      \"properties\": {\n        \"dtype\": \"number\",\n        \"std\": 13.328440943057165,\n        \"min\": 1.0,\n        \"max\": 40.0,\n        \"num_unique_values\": 7,\n        \"samples\": [\n          40.0,\n          2.55,\n          3.0\n        ],\n        \"semantic_type\": \"\",\n        \"description\": \"\"\n      }\n    },\n    {\n      \"column\": \"Equity_Market\",\n      \"properties\": {\n        \"dtype\": \"number\",\n        \"std\": 13.100722848897934,\n        \"min\": 1.0,\n        \"max\": 40.0,\n        \"num_unique_values\": 7,\n        \"samples\": [\n          40.0,\n          3.475,\n          4.0\n        ],\n        \"semantic_type\": \"\",\n        \"description\": \"\"\n      }\n    },\n    {\n      \"column\": \"Debentures\",\n      \"properties\": {\n        \"dtype\": \"number\",\n        \"std\": 12.643437520427508,\n        \"min\": 1.0,\n        \"max\": 40.0,\n        \"num_unique_values\": 7,\n        \"samples\": [\n          40.0,\n          5.75,\n          6.5\n        ],\n        \"semantic_type\": \"\",\n        \"description\": \"\"\n      }\n    },\n    {\n      \"column\": \"Government_Bonds\",\n      \"properties\": {\n        \"dtype\": \"number\",\n        \"std\": 12.879510773386334,\n        \"min\": 1.0,\n        \"max\": 40.0,\n        \"num_unique_values\": 7,\n        \"samples\": [\n          40.0,\n          4.65,\n          5.0\n        ],\n        \"semantic_type\": \"\",\n        \"description\": \"\"\n      }\n    },\n    {\n      \"column\": \"Fixed_Deposits\",\n      \"properties\": {\n        \"dtype\": \"number\",\n        \"std\": 13.032030268880106,\n        \"min\": 1.0,\n        \"max\": 40.0,\n        \"num_unique_values\": 8,\n        \"samples\": [\n          3.575,\n          3.5,\n          40.0\n        ],\n        \"semantic_type\": \"\",\n        \"description\": \"\"\n      }\n    },\n    {\n      \"column\": \"PPF\",\n      \"properties\": {\n        \"dtype\": \"number\",\n        \"std\": 13.49190022025064,\n        \"min\": 1.0,\n        \"max\": 40.0,\n        \"num_unique_values\": 6,\n        \"samples\": [\n          40.0,\n          2.025,\n          6.0\n        ],\n        \"semantic_type\": \"\",\n        \"description\": \"\"\n      }\n    },\n    {\n      \"column\": \"Gold\",\n      \"properties\": {\n        \"dtype\": \"number\",\n        \"std\": 12.56789270092528,\n        \"min\": 1.1432634351063986,\n        \"max\": 40.0,\n        \"num_unique_values\": 6,\n        \"samples\": [\n          40.0,\n          5.975,\n          7.0\n        ],\n        \"semantic_type\": \"\",\n        \"description\": \"\"\n      }\n    }\n  ]\n}"
            }
          },
          "metadata": {},
          "execution_count": 4
        }
      ]
    },
    {
      "cell_type": "code",
      "source": [
        "df.info()"
      ],
      "metadata": {
        "colab": {
          "base_uri": "https://localhost:8080/"
        },
        "id": "MCgzzVOyKiN2",
        "outputId": "ce12ff3d-1bd3-4841-c7af-db5b8eb0c43f"
      },
      "execution_count": null,
      "outputs": [
        {
          "output_type": "stream",
          "name": "stdout",
          "text": [
            "<class 'pandas.core.frame.DataFrame'>\n",
            "RangeIndex: 40 entries, 0 to 39\n",
            "Data columns (total 24 columns):\n",
            " #   Column                             Non-Null Count  Dtype \n",
            "---  ------                             --------------  ----- \n",
            " 0   gender                             40 non-null     object\n",
            " 1   age                                40 non-null     int64 \n",
            " 2   Investment_Avenues                 40 non-null     object\n",
            " 3   Mutual_Funds                       40 non-null     int64 \n",
            " 4   Equity_Market                      40 non-null     int64 \n",
            " 5   Debentures                         40 non-null     int64 \n",
            " 6   Government_Bonds                   40 non-null     int64 \n",
            " 7   Fixed_Deposits                     40 non-null     int64 \n",
            " 8   PPF                                40 non-null     int64 \n",
            " 9   Gold                               40 non-null     int64 \n",
            " 10  Stock_Marktet                      40 non-null     object\n",
            " 11  Factor                             40 non-null     object\n",
            " 12  Objective                          40 non-null     object\n",
            " 13  Purpose                            40 non-null     object\n",
            " 14  Duration                           40 non-null     object\n",
            " 15  Invest_Monitor                     40 non-null     object\n",
            " 16  Expect                             40 non-null     object\n",
            " 17  Avenue                             40 non-null     object\n",
            " 18  What are your savings objectives?  40 non-null     object\n",
            " 19  Reason_Equity                      40 non-null     object\n",
            " 20  Reason_Mutual                      40 non-null     object\n",
            " 21  Reason_Bonds                       40 non-null     object\n",
            " 22  Reason_FD                          40 non-null     object\n",
            " 23  Source                             40 non-null     object\n",
            "dtypes: int64(8), object(16)\n",
            "memory usage: 7.6+ KB\n"
          ]
        }
      ]
    },
    {
      "cell_type": "code",
      "source": [
        "df.columns"
      ],
      "metadata": {
        "colab": {
          "base_uri": "https://localhost:8080/"
        },
        "id": "TwW5kklvK_FE",
        "outputId": "ae156563-437a-41a1-d7a1-f55fc07aca67"
      },
      "execution_count": null,
      "outputs": [
        {
          "output_type": "execute_result",
          "data": {
            "text/plain": [
              "Index(['gender', 'age', 'Investment_Avenues', 'Mutual_Funds', 'Equity_Market',\n",
              "       'Debentures', 'Government_Bonds', 'Fixed_Deposits', 'PPF', 'Gold',\n",
              "       'Stock_Marktet', 'Factor', 'Objective', 'Purpose', 'Duration',\n",
              "       'Invest_Monitor', 'Expect', 'Avenue',\n",
              "       'What are your savings objectives?', 'Reason_Equity', 'Reason_Mutual',\n",
              "       'Reason_Bonds', 'Reason_FD', 'Source'],\n",
              "      dtype='object')"
            ]
          },
          "metadata": {},
          "execution_count": 11
        }
      ]
    },
    {
      "cell_type": "code",
      "source": [
        "#Task 2"
      ],
      "metadata": {
        "id": "gw5uRAKZBz_l"
      },
      "execution_count": null,
      "outputs": []
    },
    {
      "cell_type": "code",
      "source": [
        "df.gender"
      ],
      "metadata": {
        "colab": {
          "base_uri": "https://localhost:8080/"
        },
        "id": "ESzZNS7COjkY",
        "outputId": "28f1d83f-8424-48bd-cdb1-6b7b51ab0078"
      },
      "execution_count": null,
      "outputs": [
        {
          "output_type": "execute_result",
          "data": {
            "text/plain": [
              "0     Female\n",
              "1     Female\n",
              "2       Male\n",
              "3       Male\n",
              "4     Female\n",
              "5     Female\n",
              "6     Female\n",
              "7       Male\n",
              "8       Male\n",
              "9       Male\n",
              "10    Female\n",
              "11      Male\n",
              "12    Female\n",
              "13    Female\n",
              "14    Female\n",
              "15      Male\n",
              "16    Female\n",
              "17      Male\n",
              "18      Male\n",
              "19      Male\n",
              "20      Male\n",
              "21    Female\n",
              "22      Male\n",
              "23      Male\n",
              "24    Female\n",
              "25    Female\n",
              "26      Male\n",
              "27      Male\n",
              "28      Male\n",
              "29    Female\n",
              "30      Male\n",
              "31    Female\n",
              "32      Male\n",
              "33      Male\n",
              "34      Male\n",
              "35      Male\n",
              "36      Male\n",
              "37      Male\n",
              "38      Male\n",
              "39      Male\n",
              "Name: gender, dtype: object"
            ]
          },
          "metadata": {},
          "execution_count": 10
        }
      ]
    },
    {
      "cell_type": "code",
      "source": [
        "gender_counts=df['gender'].value_counts()\n",
        "print(gender_counts)"
      ],
      "metadata": {
        "colab": {
          "base_uri": "https://localhost:8080/"
        },
        "id": "edLCKRQfRgWd",
        "outputId": "e32580aa-0454-4c39-8d41-04498d8b3a5d"
      },
      "execution_count": null,
      "outputs": [
        {
          "output_type": "stream",
          "name": "stdout",
          "text": [
            "gender\n",
            "Male      25\n",
            "Female    15\n",
            "Name: count, dtype: int64\n"
          ]
        }
      ]
    },
    {
      "cell_type": "code",
      "source": [
        "gender_counts={'Male':25, 'Female':15}\n",
        "plt.bar(gender_counts.keys(), gender_counts.values())\n",
        "plt.xlabel('Gender')\n",
        "plt.ylabel('Count')\n",
        "plt.title('Gender Distribution')\n",
        "plt.show()\n",
        "print(plt.bar)"
      ],
      "metadata": {
        "colab": {
          "base_uri": "https://localhost:8080/",
          "height": 489
        },
        "id": "w0uqbiD3NOEg",
        "outputId": "1eb839f0-c010-47e9-be62-4607713b87fd"
      },
      "execution_count": null,
      "outputs": [
        {
          "output_type": "display_data",
          "data": {
            "text/plain": [
              "<Figure size 640x480 with 1 Axes>"
            ],
            "image/png": "[encoded data removed]"
          },
          "metadata": {}
        },
        {
          "output_type": "stream",
          "name": "stdout",
          "text": [
            "<function bar at 0x7f272dfd0670>\n"
          ]
        }
      ]
    },
    {
      "cell_type": "code",
      "source": [
        "# Task 3"
      ],
      "metadata": {
        "id": "dbnPMioSCE46"
      },
      "execution_count": null,
      "outputs": []
    },
    {
      "cell_type": "code",
      "source": [
        "#Here I am checking whether ot not the gender column is numeric\n",
        "from  pandas.api.types import is_numeric_dtype\n",
        "is_numeric_dtype(\"gender\")\n"
      ],
      "metadata": {
        "colab": {
          "base_uri": "https://localhost:8080/"
        },
        "id": "xSHh2pkXf6w3",
        "outputId": "189e7a10-d806-498c-f123-46816e3a9393"
      },
      "execution_count": null,
      "outputs": [
        {
          "output_type": "execute_result",
          "data": {
            "text/plain": [
              "False"
            ]
          },
          "metadata": {},
          "execution_count": 16
        }
      ]
    },
    {
      "cell_type": "code",
      "source": [
        "df.columns"
      ],
      "metadata": {
        "id": "VvuES2wMhEBn",
        "colab": {
          "base_uri": "https://localhost:8080/"
        },
        "outputId": "dd1ebfed-6aa4-49df-c793-af2ee0b7532d"
      },
      "execution_count": null,
      "outputs": [
        {
          "output_type": "execute_result",
          "data": {
            "text/plain": [
              "Index(['gender', 'age', 'Investment_Avenues', 'Mutual_Funds', 'Equity_Market',\n",
              "       'Debentures', 'Government_Bonds', 'Fixed_Deposits', 'PPF', 'Gold',\n",
              "       'Stock_Marktet', 'Factor', 'Objective', 'Purpose', 'Duration',\n",
              "       'Invest_Monitor', 'Expect', 'Avenue',\n",
              "       'What are your savings objectives?', 'Reason_Equity', 'Reason_Mutual',\n",
              "       'Reason_Bonds', 'Reason_FD', 'Source'],\n",
              "      dtype='object')"
            ]
          },
          "metadata": {},
          "execution_count": 26
        }
      ]
    },
    {
      "cell_type": "code",
      "source": [
        "list(df.columns)"
      ],
      "metadata": {
        "colab": {
          "base_uri": "https://localhost:8080/"
        },
        "id": "q4BKUJqAjBXF",
        "outputId": "cd44ec2e-cf62-47d9-95f4-416064962c63"
      },
      "execution_count": null,
      "outputs": [
        {
          "output_type": "execute_result",
          "data": {
            "text/plain": [
              "['gender',\n",
              " 'age',\n",
              " 'Investment_Avenues',\n",
              " 'Mutual_Funds',\n",
              " 'Equity_Market',\n",
              " 'Debentures',\n",
              " 'Government_Bonds',\n",
              " 'Fixed_Deposits',\n",
              " 'PPF',\n",
              " 'Gold',\n",
              " 'Stock_Marktet',\n",
              " 'Factor',\n",
              " 'Objective',\n",
              " 'Purpose',\n",
              " 'Duration',\n",
              " 'Invest_Monitor',\n",
              " 'Expect',\n",
              " 'Avenue',\n",
              " 'What are your savings objectives?',\n",
              " 'Reason_Equity',\n",
              " 'Reason_Mutual',\n",
              " 'Reason_Bonds',\n",
              " 'Reason_FD',\n",
              " 'Source']"
            ]
          },
          "metadata": {},
          "execution_count": 27
        }
      ]
    },
    {
      "cell_type": "code",
      "source": [
        "list (c for c in df.columns)"
      ],
      "metadata": {
        "colab": {
          "base_uri": "https://localhost:8080/"
        },
        "id": "E5z1kGrfjHha",
        "outputId": "34e26571-d68e-44a5-e681-55f40bd7105a"
      },
      "execution_count": null,
      "outputs": [
        {
          "output_type": "execute_result",
          "data": {
            "text/plain": [
              "['gender',\n",
              " 'age',\n",
              " 'Investment_Avenues',\n",
              " 'Mutual_Funds',\n",
              " 'Equity_Market',\n",
              " 'Debentures',\n",
              " 'Government_Bonds',\n",
              " 'Fixed_Deposits',\n",
              " 'PPF',\n",
              " 'Gold',\n",
              " 'Stock_Marktet',\n",
              " 'Factor',\n",
              " 'Objective',\n",
              " 'Purpose',\n",
              " 'Duration',\n",
              " 'Invest_Monitor',\n",
              " 'Expect',\n",
              " 'Avenue',\n",
              " 'What are your savings objectives?',\n",
              " 'Reason_Equity',\n",
              " 'Reason_Mutual',\n",
              " 'Reason_Bonds',\n",
              " 'Reason_FD',\n",
              " 'Source']"
            ]
          },
          "metadata": {},
          "execution_count": 28
        }
      ]
    },
    {
      "cell_type": "code",
      "source": [
        "[len(c) for c in df.columns]"
      ],
      "metadata": {
        "colab": {
          "base_uri": "https://localhost:8080/"
        },
        "id": "RNQUzwyJjRs3",
        "outputId": "0f839b16-aa24-4334-95b0-e4b6f201bd72"
      },
      "execution_count": null,
      "outputs": [
        {
          "output_type": "execute_result",
          "data": {
            "text/plain": [
              "[6,\n",
              " 3,\n",
              " 18,\n",
              " 12,\n",
              " 13,\n",
              " 10,\n",
              " 16,\n",
              " 14,\n",
              " 3,\n",
              " 4,\n",
              " 13,\n",
              " 6,\n",
              " 9,\n",
              " 7,\n",
              " 8,\n",
              " 14,\n",
              " 6,\n",
              " 6,\n",
              " 33,\n",
              " 13,\n",
              " 13,\n",
              " 12,\n",
              " 9,\n",
              " 6]"
            ]
          },
          "metadata": {},
          "execution_count": 29
        }
      ]
    },
    {
      "cell_type": "code",
      "source": [
        "#Which Column has a length of 4\n",
        "[c for c in df.columns if len(c)==4]"
      ],
      "metadata": {
        "colab": {
          "base_uri": "https://localhost:8080/"
        },
        "id": "EDDMFrrIjbk9",
        "outputId": "ab3ebe53-2518-44d3-dcb6-3b05ad4c4cb8"
      },
      "execution_count": null,
      "outputs": [
        {
          "output_type": "execute_result",
          "data": {
            "text/plain": [
              "['Gold']"
            ]
          },
          "metadata": {},
          "execution_count": 38
        }
      ]
    },
    {
      "cell_type": "code",
      "source": [
        "#Determine which column is numeric and which is not\n",
        "numeric_cols=df.select_dtypes(include=['number']).columns\n",
        "non_numeric_cols = df.select_dtypes(exclude=['number']).columns\n",
        "print(\"Numeric Columns:\", numeric_cols)\n",
        "print(\"Non_Numeric columns:\", non_numeric_cols)"
      ],
      "metadata": {
        "colab": {
          "base_uri": "https://localhost:8080/"
        },
        "id": "crIYgjOVolMu",
        "outputId": "8d8c6fd6-6e8f-407a-861d-4e11b69b3b50",
        "collapsed": true
      },
      "execution_count": null,
      "outputs": [
        {
          "output_type": "stream",
          "name": "stdout",
          "text": [
            "Numeric Columns: Index(['age', 'Mutual_Funds', 'Equity_Market', 'Debentures',\n",
            "       'Government_Bonds', 'Fixed_Deposits', 'PPF', 'Gold'],\n",
            "      dtype='object')\n",
            "Non_Numeric columns: Index(['gender', 'Investment_Avenues', 'Stock_Marktet', 'Factor', 'Objective',\n",
            "       'Purpose', 'Duration', 'Invest_Monitor', 'Expect', 'Avenue',\n",
            "       'What are your savings objectives?', 'Reason_Equity', 'Reason_Mutual',\n",
            "       'Reason_Bonds', 'Reason_FD', 'Source'],\n",
            "      dtype='object')\n"
          ]
        }
      ]
    },
    {
      "cell_type": "code",
      "source": [
        "#Now we have the numeric columns, lets run Mean, Mode, Median, Variance, and standard deviation on each of them.\n",
        "numeric_cols=df.describe()\n",
        "print(numeric_cols)"
      ],
      "metadata": {
        "colab": {
          "base_uri": "https://localhost:8080/"
        },
        "id": "vKSMk7LLpkMQ",
        "outputId": "0672b8e4-cca0-43d4-b4bd-639be7413c34"
      },
      "execution_count": null,
      "outputs": [
        {
          "output_type": "stream",
          "name": "stdout",
          "text": [
            "             age  Mutual_Funds  Equity_Market  Debentures  Government_Bonds  \\\n",
            "count  40.000000     40.000000      40.000000   40.000000         40.000000   \n",
            "mean   27.800000      2.550000       3.475000    5.750000          4.650000   \n",
            "std     3.560467      1.197219       1.131994    1.675617          1.369072   \n",
            "min    21.000000      1.000000       1.000000    1.000000          1.000000   \n",
            "25%    25.750000      2.000000       3.000000    5.000000          4.000000   \n",
            "50%    27.000000      2.000000       4.000000    6.500000          5.000000   \n",
            "75%    30.000000      3.000000       4.000000    7.000000          5.000000   \n",
            "max    35.000000      7.000000       6.000000    7.000000          7.000000   \n",
            "\n",
            "       Fixed_Deposits        PPF       Gold  \n",
            "count       40.000000  40.000000  40.000000  \n",
            "mean         3.575000   2.025000   5.975000  \n",
            "std          1.795828   1.609069   1.143263  \n",
            "min          1.000000   1.000000   2.000000  \n",
            "25%          2.750000   1.000000   6.000000  \n",
            "50%          3.500000   1.000000   6.000000  \n",
            "75%          5.000000   2.250000   7.000000  \n",
            "max          7.000000   6.000000   7.000000  \n"
          ]
        }
      ]
    },
    {
      "cell_type": "code",
      "source": [
        "#Task 4"
      ],
      "metadata": {
        "id": "ZKgvz3VHCJww"
      },
      "execution_count": null,
      "outputs": []
    },
    {
      "cell_type": "code",
      "source": [
        "df['Avenue'].describe()\n"
      ],
      "metadata": {
        "colab": {
          "base_uri": "https://localhost:8080/"
        },
        "id": "l3Ti7QMcQutp",
        "outputId": "7862dec5-d6cd-4891-e784-cffcefb6a2c0"
      },
      "execution_count": null,
      "outputs": [
        {
          "output_type": "execute_result",
          "data": {
            "text/plain": [
              "count              40\n",
              "unique              4\n",
              "top       Mutual Fund\n",
              "freq               18\n",
              "Name: Avenue, dtype: object"
            ]
          },
          "metadata": {},
          "execution_count": 29
        }
      ]
    },
    {
      "cell_type": "code",
      "source": [
        "frequency=df[\"Avenue\"].value_counts()\n",
        "print(frequency)"
      ],
      "metadata": {
        "colab": {
          "base_uri": "https://localhost:8080/"
        },
        "id": "FLvq0teQS0cF",
        "outputId": "ab8bb75d-d833-46cc-92db-3e86b3e56410"
      },
      "execution_count": null,
      "outputs": [
        {
          "output_type": "stream",
          "name": "stdout",
          "text": [
            "Avenue\n",
            "Mutual Fund              18\n",
            "Equity                   10\n",
            "Fixed Deposits            9\n",
            "Public Provident Fund     3\n",
            "Name: count, dtype: int64\n"
          ]
        }
      ]
    },
    {
      "cell_type": "code",
      "source": [
        "frequency.plot(kind=\"bar\")\n",
        "plt.xlabel(\"Avenue\")\n",
        "plt.ylabel(\"Frequency\")\n",
        "plt.title(\"Frequency of each avenue\")\n",
        "plt.show()"
      ],
      "metadata": {
        "colab": {
          "base_uri": "https://localhost:8080/",
          "height": 607
        },
        "id": "2g4OUSdhS4rY",
        "outputId": "19c2ed18-a70e-4ebe-8377-bcfb1f40220f"
      },
      "execution_count": null,
      "outputs": [
        {
          "output_type": "display_data",
          "data": {
            "text/plain": [
              "<Figure size 640x480 with 1 Axes>"
            ],
            "image/png": "[encoded data removed]"
          },
          "metadata": {}
        }
      ]
    },
    {
      "cell_type": "markdown",
      "source": [
        "Mutual funds are the most occuring investement avenue."
      ],
      "metadata": {
        "id": "hc1Yq9aeTnxq"
      }
    },
    {
      "cell_type": "code",
      "source": [
        "# Task 5"
      ],
      "metadata": {
        "id": "KWMWbEcACQuv"
      },
      "execution_count": null,
      "outputs": []
    },
    {
      "cell_type": "code",
      "source": [
        "reasons_columns=['Reason_Equity', 'Reason_Mutual','Reason_FD', 'Reason_Bonds' ]\n",
        "Selectedcols=df[reasons_columns].describe()\n",
        "print(Selectedcols)"
      ],
      "metadata": {
        "colab": {
          "base_uri": "https://localhost:8080/"
        },
        "id": "7gnGvVMFTwXV",
        "outputId": "0f736baf-ccc0-4e45-b3d3-73c0ef8fa6d0"
      },
      "execution_count": null,
      "outputs": [
        {
          "output_type": "stream",
          "name": "stdout",
          "text": [
            "               Reason_Equity   Reason_Mutual  Reason_FD     Reason_Bonds\n",
            "count                     40              40         40               40\n",
            "unique                     3               3          3                3\n",
            "top     Capital Appreciation  Better Returns  Risk Free  Assured Returns\n",
            "freq                      30              24         19               26\n"
          ]
        }
      ]
    },
    {
      "cell_type": "code",
      "source": [
        "for column in reasons_columns:\n",
        "    sns.countplot(x=column, data=df)\n",
        "    plt.title('Frequency Distribution of the reasons of investing')\n",
        "    plt.show()"
      ],
      "metadata": {
        "colab": {
          "base_uri": "https://localhost:8080/",
          "height": 1000
        },
        "id": "f2VFsxaJZHZE",
        "outputId": "ce7f866c-d55f-486e-e4d8-d21fd678c73d"
      },
      "execution_count": null,
      "outputs": [
        {
          "output_type": "display_data",
          "data": {
            "text/plain": [
              "<Figure size 640x480 with 1 Axes>"
            ],
            "image/png": "[encoded data removed]"
          },
          "metadata": {}
        },
        {
          "output_type": "display_data",
          "data": {
            "text/plain": [
              "<Figure size 640x480 with 1 Axes>"
            ],
            "image/png": "[encoded data removed]"
          },
          "metadata": {}
        },
        {
          "output_type": "display_data",
          "data": {
            "text/plain": [
              "<Figure size 640x480 with 1 Axes>"
            ],
            "image/png": "[encoded data removed]"
          },
          "metadata": {}
        },
        {
          "output_type": "display_data",
          "data": {
            "text/plain": [
              "<Figure size 640x480 with 1 Axes>"
            ],
            "image/png": "[encoded data removed]"
          },
          "metadata": {}
        }
      ]
    },
    {
      "cell_type": "code",
      "source": [
        "cross_tab = pd.crosstab(df['Reason_Equity'], df['Reason_Mutual'])\n",
        "print(\"Cross-tabulation between Reason_Equity and Reason_Mutual:\",\n",
        "      cross_tab)"
      ],
      "metadata": {
        "colab": {
          "base_uri": "https://localhost:8080/"
        },
        "id": "X61N4u11ZlIV",
        "outputId": "067af26d-b801-45ac-d4bc-db0c311ac058"
      },
      "execution_count": null,
      "outputs": [
        {
          "output_type": "stream",
          "name": "stdout",
          "text": [
            "Cross-tabulation between Reason_Equity and Reason_Mutual: Reason_Mutual         Better Returns  Fund Diversification  Tax Benefits\n",
            "Reason_Equity                                                           \n",
            "Capital Appreciation              18                     9             3\n",
            "Dividend                           5                     3             0\n",
            "Liquidity                          1                     1             0\n"
          ]
        }
      ]
    },
    {
      "cell_type": "code",
      "source": [
        "for column in reasons_columns:\n",
        "    top_value=df[column].value_counts().head(1)\n",
        "    print(\"The top 1 value in \", top_value  )"
      ],
      "metadata": {
        "colab": {
          "base_uri": "https://localhost:8080/"
        },
        "id": "-IFAbNCiaFmS",
        "outputId": "c7b299f6-740b-46bf-e837-39817a877f25"
      },
      "execution_count": null,
      "outputs": [
        {
          "output_type": "stream",
          "name": "stdout",
          "text": [
            "The top 1 value in  Reason_Equity\n",
            "Capital Appreciation    30\n",
            "Name: count, dtype: int64\n",
            "The top 1 value in  Reason_Mutual\n",
            "Better Returns    24\n",
            "Name: count, dtype: int64\n",
            "The top 1 value in  Reason_FD\n",
            "Risk Free    19\n",
            "Name: count, dtype: int64\n",
            "The top 1 value in  Reason_Bonds\n",
            "Assured Returns    26\n",
            "Name: count, dtype: int64\n"
          ]
        }
      ]
    },
    {
      "cell_type": "code",
      "source": [
        "# Task 6"
      ],
      "metadata": {
        "id": "uDXqFh0qDMKs"
      },
      "execution_count": null,
      "outputs": []
    },
    {
      "cell_type": "code",
      "source": [
        "column_of_interest = 'What are your savings objectives?'\n",
        "savings_objectives = df[column_of_interest].value_counts()\n",
        "print(savings_objectives)\n"
      ],
      "metadata": {
        "colab": {
          "base_uri": "https://localhost:8080/"
        },
        "id": "hLBZmlnVcptQ",
        "outputId": "7faf1c06-d7f6-498c-82d8-8b90e7c4235a"
      },
      "execution_count": null,
      "outputs": [
        {
          "output_type": "stream",
          "name": "stdout",
          "text": [
            "What are your savings objectives?\n",
            "Retirement Plan    24\n",
            "Health Care        13\n",
            "Education           3\n",
            "Name: count, dtype: int64\n"
          ]
        }
      ]
    },
    {
      "cell_type": "code",
      "source": [
        "unique_values = df[column_of_interest].unique()\n",
        "print(\"Unique values are :\" , unique_values)"
      ],
      "metadata": {
        "colab": {
          "base_uri": "https://localhost:8080/"
        },
        "id": "iXYLXcK_feCD",
        "outputId": "6e70150b-f6ff-4381-eebb-a9139818e542"
      },
      "execution_count": null,
      "outputs": [
        {
          "output_type": "stream",
          "name": "stdout",
          "text": [
            "Unique values are : ['Retirement Plan' 'Health Care' 'Education']\n"
          ]
        }
      ]
    },
    {
      "cell_type": "code",
      "source": [
        "sns.countplot(x=column_of_interest, data=df)\n",
        "plt.title('Frequency Distribution of the savings objectives')\n",
        "plt.show()"
      ],
      "metadata": {
        "colab": {
          "base_uri": "https://localhost:8080/",
          "height": 472
        },
        "id": "0RYRCHU_frzm",
        "outputId": "2f8a5889-67dd-4971-9d32-397d61f67b98"
      },
      "execution_count": null,
      "outputs": [
        {
          "output_type": "display_data",
          "data": {
            "text/plain": [
              "<Figure size 640x480 with 1 Axes>"
            ],
            "image/png": "[encoded data removed]"
          },
          "metadata": {}
        }
      ]
    },
    {
      "cell_type": "code",
      "source": [
        "# Task 8"
      ],
      "metadata": {
        "id": "JejyrbNcDjW6"
      },
      "execution_count": null,
      "outputs": []
    },
    {
      "cell_type": "code",
      "source": [
        "print(df['Duration'].dtype)"
      ],
      "metadata": {
        "colab": {
          "base_uri": "https://localhost:8080/"
        },
        "id": "rlsR_5NDgfzW",
        "outputId": "41b4af95-3429-4383-95b4-a49b58d4bb1e"
      },
      "execution_count": null,
      "outputs": [
        {
          "output_type": "stream",
          "name": "stdout",
          "text": [
            "object\n"
          ]
        }
      ]
    },
    {
      "cell_type": "code",
      "source": [
        "duration_frequency=df[\"Duration\"].value_counts()\n",
        "print(duration_frequency)"
      ],
      "metadata": {
        "colab": {
          "base_uri": "https://localhost:8080/"
        },
        "id": "SsXdzv3Floqo",
        "outputId": "46069b62-e963-46b8-9771-bb02ff864a76"
      },
      "execution_count": null,
      "outputs": [
        {
          "output_type": "stream",
          "name": "stdout",
          "text": [
            "Duration\n",
            "3-5 years            19\n",
            "1-3 years            18\n",
            "Less than 1 year      2\n",
            "More than 5 years     1\n",
            "Name: count, dtype: int64\n"
          ]
        }
      ]
    },
    {
      "cell_type": "code",
      "source": [
        "the_mode=df['Duration'].mode()[0]\n",
        "print(the_mode)"
      ],
      "metadata": {
        "colab": {
          "base_uri": "https://localhost:8080/"
        },
        "id": "bobsUBSlgz4S",
        "outputId": "fb268626-4027-448d-e5d7-6d77b14a512d"
      },
      "execution_count": null,
      "outputs": [
        {
          "output_type": "stream",
          "name": "stdout",
          "text": [
            "3-5 years\n"
          ]
        }
      ]
    },
    {
      "cell_type": "code",
      "source": [
        "the_propotion=df['Duration'].value_counts(normalize=True)\n",
        "print(the_propotion)"
      ],
      "metadata": {
        "colab": {
          "base_uri": "https://localhost:8080/"
        },
        "id": "dUC21J4VmEpT",
        "outputId": "0a2a1a1a-87a3-4f7e-b7b7-d13dc8b91c3b"
      },
      "execution_count": null,
      "outputs": [
        {
          "output_type": "stream",
          "name": "stdout",
          "text": [
            "Duration\n",
            "3-5 years            0.475\n",
            "1-3 years            0.450\n",
            "Less than 1 year     0.050\n",
            "More than 5 years    0.025\n",
            "Name: proportion, dtype: float64\n"
          ]
        }
      ]
    },
    {
      "cell_type": "code",
      "source": [
        "sns.countplot(x='Duration', data=df)\n",
        "plt.title(\"Duaration of investment\")\n",
        "plt.show()"
      ],
      "metadata": {
        "colab": {
          "base_uri": "https://localhost:8080/",
          "height": 472
        },
        "id": "hdxLv29Gme1o",
        "outputId": "4a6bd2d0-6d35-4dbc-e563-bfd31f192304"
      },
      "execution_count": null,
      "outputs": [
        {
          "output_type": "display_data",
          "data": {
            "text/plain": [
              "<Figure size 640x480 with 1 Axes>"
            ],
            "image/png": "[encoded data removed]"
          },
          "metadata": {}
        }
      ]
    },
    {
      "cell_type": "code",
      "source": [
        "# Task  10"
      ],
      "metadata": {
        "id": "N-kNUM18CrrX"
      },
      "execution_count": null,
      "outputs": []
    },
    {
      "cell_type": "code",
      "source": [
        "from sklearn.preprocessing import LabelEncoder\n",
        "nominal_column = 'Duration'\n",
        "numerical_column = 'age'\n",
        "label_encoder= LabelEncoder()\n",
        "df['NominalEncoded']=label_encoder.fit_transform(df['Duration'])\n",
        "print(df[['Duration', 'NominalEncoded']].head())"
      ],
      "metadata": {
        "colab": {
          "base_uri": "https://localhost:8080/"
        },
        "id": "oodJ2tZfnhj_",
        "outputId": "dc363bff-aa94-424c-dfe9-e94a8eb9d6a8"
      },
      "execution_count": null,
      "outputs": [
        {
          "output_type": "stream",
          "name": "stdout",
          "text": [
            "            Duration  NominalEncoded\n",
            "0          1-3 years               0\n",
            "1  More than 5 years               3\n",
            "2          3-5 years               1\n",
            "3   Less than 1 year               2\n",
            "4   Less than 1 year               2\n"
          ]
        }
      ]
    },
    {
      "cell_type": "code",
      "source": [
        "correlation = df[['NominalEncoded', numerical_column]].corr().iloc[0, 1]\n",
        "print(f\"Correlation coefficient between encoded {nominal_column} and {numerical_column}: {correlation}\")"
      ],
      "metadata": {
        "colab": {
          "base_uri": "https://localhost:8080/"
        },
        "id": "ItxLMI5RsC7n",
        "outputId": "61a9b4b8-f6b9-4675-d815-1c2fc004752b"
      },
      "execution_count": null,
      "outputs": [
        {
          "output_type": "stream",
          "name": "stdout",
          "text": [
            "Correlation coefficient between encoded Duration and age: -0.275790231486403\n"
          ]
        }
      ]
    },
    {
      "cell_type": "code",
      "source": [
        "sns.scatterplot(x='NominalEncoded',y=numerical_column,data=df)\n",
        "plt.title('Scatter plot of Duration vs age')\n",
        "plt.xlabel('Duration')\n",
        "plt.show()"
      ],
      "metadata": {
        "colab": {
          "base_uri": "https://localhost:8080/",
          "height": 472
        },
        "id": "C3lDBCYDuHX3",
        "outputId": "e489e4c1-c3aa-43e3-c808-19ec62bcf522"
      },
      "execution_count": null,
      "outputs": [
        {
          "output_type": "display_data",
          "data": {
            "text/plain": [
              "<Figure size 640x480 with 1 Axes>"
            ],
            "image/png": "[encoded data removed]"
          },
          "metadata": {}
        }
      ]
    },
    {
      "cell_type": "code",
      "source": [
        "correlation_matrix=df[['NominalEncoded', numerical_column]].corr()\n",
        "sns.heatmap(correlation_matrix, annot=True, cmap='coolwarm',vmin=1, vmax=1)\n",
        "plt.figure(figsize=(8, 6))\n",
        "plt.title('Correlation Heatmap')\n",
        "plt.show()\n"
      ],
      "metadata": {
        "colab": {
          "base_uri": "https://localhost:8080/",
          "height": 963
        },
        "id": "nDsGWyBMvnHM",
        "outputId": "5da7758d-04ff-4a1b-8766-af44e0ee2afc"
      },
      "execution_count": null,
      "outputs": [
        {
          "output_type": "display_data",
          "data": {
            "text/plain": [
              "<Figure size 640x480 with 2 Axes>"
            ],
            "image/png": "[encoded data removed]"
          },
          "metadata": {}
        },
        {
          "output_type": "display_data",
          "data": {
            "text/plain": [
              "<Figure size 800x600 with 1 Axes>"
            ],
            "image/png": "[encoded data removed]"
          },
          "metadata": {}
        }
      ]
    }
  ]
}