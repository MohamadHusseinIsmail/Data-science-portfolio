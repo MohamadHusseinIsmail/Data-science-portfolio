{
  "nbformat": 4,
  "nbformat_minor": 0,
  "metadata": {
    "colab": {
      "provenance": [],
      "authorship_tag": "ABX9TyPevCcxXY5RfwDZZlwp9qPg",
      "include_colab_link": true
    },
    "kernelspec": {
      "name": "python3",
      "display_name": "Python 3"
    },
    "language_info": {
      "name": "python"
    }
  },
  "cells": [
    {
      "cell_type": "markdown",
      "metadata": {
        "id": "view-in-github",
        "colab_type": "text"
      },
      "source": [
        "<a href=\"https://colab.research.google.com/github/MohamadHusseinIsmail/Data-science-portfolio/blob/main/linear_regression_project.ipynb\" target=\"_parent\"><img src=\"https://colab.research.google.com/assets/colab-badge.svg\" alt=\"Open In Colab\"/></a>"
      ]
    },
    {
      "cell_type": "code",
      "execution_count": null,
      "metadata": {
        "id": "8J2eZPKDfrDR"
      },
      "outputs": [],
      "source": [
        "import pandas as pd\n",
        "import numpy as np\n",
        "import matplotlib.pyplot as plt\n",
        "import seaborn as sns\n",
        "from sklearn.model_selection import train_test_split\n",
        "from sklearn.linear_model import LinearRegression\n",
        "from sklearn.metrics import mean_squared_error, r2_score"
      ]
    },
    {
      "cell_type": "code",
      "source": [
        "\n",
        "df = pd.read_csv('/content/Housing.csv')\n",
        "df.head()\n",
        "print(df.info())\n",
        "\n",
        "print(df.isnull().sum())"
      ],
      "metadata": {
        "colab": {
          "base_uri": "https://localhost:8080/"
        },
        "id": "navTQLI_f_6k",
        "outputId": "6bbc9f63-2989-40ac-d62b-4242fd44cc95"
      },
      "execution_count": null,
      "outputs": [
        {
          "output_type": "stream",
          "name": "stdout",
          "text": [
            "<class 'pandas.core.frame.DataFrame'>\n",
            "RangeIndex: 545 entries, 0 to 544\n",
            "Data columns (total 13 columns):\n",
            " #   Column            Non-Null Count  Dtype \n",
            "---  ------            --------------  ----- \n",
            " 0   price             545 non-null    int64 \n",
            " 1   area              545 non-null    int64 \n",
            " 2   bedrooms          545 non-null    int64 \n",
            " 3   bathrooms         545 non-null    int64 \n",
            " 4   stories           545 non-null    int64 \n",
            " 5   mainroad          545 non-null    object\n",
            " 6   guestroom         545 non-null    object\n",
            " 7   basement          545 non-null    object\n",
            " 8   hotwaterheating   545 non-null    object\n",
            " 9   airconditioning   545 non-null    object\n",
            " 10  parking           545 non-null    int64 \n",
            " 11  prefarea          545 non-null    object\n",
            " 12  furnishingstatus  545 non-null    object\n",
            "dtypes: int64(6), object(7)\n",
            "memory usage: 55.5+ KB\n",
            "None\n",
            "price               0\n",
            "area                0\n",
            "bedrooms            0\n",
            "bathrooms           0\n",
            "stories             0\n",
            "mainroad            0\n",
            "guestroom           0\n",
            "basement            0\n",
            "hotwaterheating     0\n",
            "airconditioning     0\n",
            "parking             0\n",
            "prefarea            0\n",
            "furnishingstatus    0\n",
            "dtype: int64\n"
          ]
        }
      ]
    },
    {
      "cell_type": "code",
      "source": [
        "info_summary = df.info()\n",
        "\n",
        "# Check for missing values\n",
        "missing_values = df.isnull().sum()\n",
        "df['mainroad'] = df['mainroad'].map({'no': 0, 'yes': 1})\n",
        "df['guestroom'] = df['guestroom'].map({'no': 0, 'yes': 1})\n",
        "df['basement'] = df['basement'].map({'no': 0, 'yes': 1})\n",
        "df['hotwaterheating'] = df['hotwaterheating'].map({'no': 0, 'yes': 1})\n",
        "df['airconditioning'] = df['airconditioning'].map({'no': 0, 'yes': 1})\n",
        "df['prefarea'] = df['prefarea'].map({'no': 0, 'yes': 1})\n",
        "df['furnishingstatus'] = df['furnishingstatus'].map({'unfurnished': 0, 'semi-furnished': 1, 'furnished': 2})\n",
        "\n",
        "df_head = df.head()\n",
        "\n",
        "info_summary, missing_values, df_head"
      ],
      "metadata": {
        "colab": {
          "base_uri": "https://localhost:8080/"
        },
        "id": "b08uxZxwI-6d",
        "outputId": "9176517b-9766-4ff4-fb4e-0fa0a320175b"
      },
      "execution_count": null,
      "outputs": [
        {
          "output_type": "stream",
          "name": "stdout",
          "text": [
            "<class 'pandas.core.frame.DataFrame'>\n",
            "RangeIndex: 545 entries, 0 to 544\n",
            "Data columns (total 13 columns):\n",
            " #   Column            Non-Null Count  Dtype \n",
            "---  ------            --------------  ----- \n",
            " 0   price             545 non-null    int64 \n",
            " 1   area              545 non-null    int64 \n",
            " 2   bedrooms          545 non-null    int64 \n",
            " 3   bathrooms         545 non-null    int64 \n",
            " 4   stories           545 non-null    int64 \n",
            " 5   mainroad          545 non-null    object\n",
            " 6   guestroom         545 non-null    object\n",
            " 7   basement          545 non-null    object\n",
            " 8   hotwaterheating   545 non-null    object\n",
            " 9   airconditioning   545 non-null    object\n",
            " 10  parking           545 non-null    int64 \n",
            " 11  prefarea          545 non-null    object\n",
            " 12  furnishingstatus  545 non-null    object\n",
            "dtypes: int64(6), object(7)\n",
            "memory usage: 55.5+ KB\n"
          ]
        },
        {
          "output_type": "execute_result",
          "data": {
            "text/plain": [
              "(None,\n",
              " price               0\n",
              " area                0\n",
              " bedrooms            0\n",
              " bathrooms           0\n",
              " stories             0\n",
              " mainroad            0\n",
              " guestroom           0\n",
              " basement            0\n",
              " hotwaterheating     0\n",
              " airconditioning     0\n",
              " parking             0\n",
              " prefarea            0\n",
              " furnishingstatus    0\n",
              " dtype: int64,\n",
              "       price  area  bedrooms  bathrooms  stories  mainroad  guestroom  \\\n",
              " 0  13300000  7420         4          2        3         1          0   \n",
              " 1  12250000  8960         4          4        4         1          0   \n",
              " 2  12250000  9960         3          2        2         1          0   \n",
              " 3  12215000  7500         4          2        2         1          0   \n",
              " 4  11410000  7420         4          1        2         1          1   \n",
              " \n",
              "    basement  hotwaterheating  airconditioning  parking  prefarea  \\\n",
              " 0         0                0                1        2         1   \n",
              " 1         0                0                1        3         0   \n",
              " 2         1                0                0        2         1   \n",
              " 3         1                0                1        3         1   \n",
              " 4         1                0                1        2         0   \n",
              " \n",
              "    furnishingstatus  \n",
              " 0                 2  \n",
              " 1                 2  \n",
              " 2                 1  \n",
              " 3                 2  \n",
              " 4                 2  )"
            ]
          },
          "metadata": {},
          "execution_count": 57
        }
      ]
    },
    {
      "cell_type": "code",
      "source": [
        "df.dropna(inplace=True)"
      ],
      "metadata": {
        "id": "t2gQAAdHKj7l"
      },
      "execution_count": null,
      "outputs": []
    },
    {
      "cell_type": "code",
      "source": [
        "\n",
        "X = df[['bathrooms', 'guestroom']]  # Replace with your actual feature names\n",
        "y = df['price']  # Replace with your actual target variable\n",
        "X_train = X_train.dropna()\n",
        "y_train = y_train.dropna()\n",
        "X_train, X_test, y_train, y_test = train_test_split(X, y, test_size=0.5, train_size= 0.5)\n",
        "model = LinearRegression()\n",
        "model.fit(X_train,y_train)\n",
        "y_pred = model.predict(X_test)\n",
        "\n",
        "# Calculate Mean Squared Error and R-squared\n",
        "mse = mean_squared_error(y_test, y_pred)\n",
        "r2 = r2_score(y_test, y_pred)\n",
        "\n",
        "print(f\"Mean Squared Error: {mse}\")\n",
        "print(f\"R-squared: {r2}\")"
      ],
      "metadata": {
        "colab": {
          "base_uri": "https://localhost:8080/"
        },
        "id": "frieeMd6gTgU",
        "outputId": "b9c30356-2168-400b-ac49-5261b260d376"
      },
      "execution_count": null,
      "outputs": [
        {
          "output_type": "stream",
          "name": "stdout",
          "text": [
            "Mean Squared Error: 2933174800363.7583\n",
            "R-squared: 0.2858027195847146\n"
          ]
        }
      ]
    },
    {
      "cell_type": "code",
      "source": [
        "import matplotlib.pyplot as plt\n",
        "import seaborn as sns\n",
        "\n",
        "# Plot the actual vs. predicted values\n",
        "plt.figure(figsize=(10, 6))\n",
        "sns.scatterplot(x=y_test, y=y_pred)\n",
        "plt.xlabel(\"bathrooms\" )\n",
        "plt.ylabel(\"Price\")\n",
        "plt.title(\"bathrooms,guestroom vs Price\")\n",
        "plt.show()"
      ],
      "metadata": {
        "colab": {
          "base_uri": "https://localhost:8080/",
          "height": 527
        },
        "id": "SDjZnHG2Mqwg",
        "outputId": "c659b079-1206-4be2-c387-8890befc6344"
      },
      "execution_count": null,
      "outputs": [
        {
          "output_type": "display_data",
          "data": {
            "text/plain": [
              "<Figure size 1000x600 with 1 Axes>"
            ],
            "image/png": "[encoded data removed]"
          },
          "metadata": {}
        }
      ]
    }
  ]
}