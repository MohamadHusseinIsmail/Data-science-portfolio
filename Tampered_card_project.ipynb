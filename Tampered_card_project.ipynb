{
  "nbformat": 4,
  "nbformat_minor": 0,
  "metadata": {
    "colab": {
      "private_outputs": true,
      "provenance": [],
      "authorship_tag": "ABX9TyMUHaPYlJoTXiuCUnQawbyg",
      "include_colab_link": true
    },
    "kernelspec": {
      "name": "python3",
      "display_name": "Python 3"
    },
    "language_info": {
      "name": "python"
    }
  },
  "cells": [
    {
      "cell_type": "markdown",
      "metadata": {
        "id": "view-in-github",
        "colab_type": "text"
      },
      "source": [
        "<a href=\"https://colab.research.google.com/github/MohamadHusseinIsmail/Data-science-portfolio/blob/main/Tampered_card_project.ipynb\" target=\"_parent\"><img src=\"https://colab.research.google.com/assets/colab-badge.svg\" alt=\"Open In Colab\"/></a>"
      ]
    },
    {
      "cell_type": "code",
      "execution_count": null,
      "metadata": {
        "id": "6wKarrj3vXmH"
      },
      "outputs": [],
      "source": [
        "from skimage.metrics import structural_similarity\n",
        "import imutils\n",
        "import cv2\n",
        "from PIL import Image\n",
        "import requests"
      ]
    },
    {
      "cell_type": "code",
      "source": [
        "!mkdir pan_card_tampering\n",
        "!mkdir pan_card_tampering/image"
      ],
      "metadata": {
        "id": "d5AByrK01d5V"
      },
      "execution_count": null,
      "outputs": []
    },
    {
      "cell_type": "code",
      "source": [
        "original = Image.open(requests.get('https://www.thestatesman.com/wp-content/uploads/2019/07/pan-card.jpg', stream=True).raw)\n",
        "tampered = Image.open(requests.get('https://assets1.cleartax-cdn.com/s/img/20170526124335/Pan4.png', stream=True).raw)"
      ],
      "metadata": {
        "id": "sx6EDyAF3Jnv"
      },
      "execution_count": null,
      "outputs": []
    },
    {
      "cell_type": "code",
      "source": [
        "print(\"Original image format:\", original.format)\n",
        "print(\"Tampered image format\", tampered.size)"
      ],
      "metadata": {
        "id": "xpyswzCL3aM2"
      },
      "execution_count": null,
      "outputs": []
    },
    {
      "cell_type": "code",
      "source": [
        "print(\"original image size:\", original.size)\n",
        "print(\"Tampered image size:\", tampered.size)"
      ],
      "metadata": {
        "id": "BqI-fQiM4Cp7"
      },
      "execution_count": null,
      "outputs": []
    },
    {
      "cell_type": "code",
      "source": [
        "# Resize Image\n",
        "original = original.resize((250, 160))\n",
        "print(original.size)\n",
        "original.save('/content/pan_card_tampering/image/original.png')#Save image\n",
        "tampered = tampered.resize((250,160))\n",
        "print(tampered.size)\n",
        "tampered.save('/content/pan_card_tampering/image/tampered.png')#Saves image"
      ],
      "metadata": {
        "id": "bdoJ8Bfe4Uv3"
      },
      "execution_count": null,
      "outputs": []
    },
    {
      "cell_type": "code",
      "source": [
        "tampered = Image.open('pan_card_tampering/image/tampered.png')\n",
        "tampered.save('pan_card_tampering/image/tampered.png')#"
      ],
      "metadata": {
        "id": "vGnbxtwy6wkB"
      },
      "execution_count": null,
      "outputs": []
    },
    {
      "cell_type": "code",
      "source": [
        "original"
      ],
      "metadata": {
        "id": "GGgh0CC_7b1e"
      },
      "execution_count": null,
      "outputs": []
    },
    {
      "cell_type": "code",
      "source": [
        "tampered"
      ],
      "metadata": {
        "id": "gHBFRv3D_7SU"
      },
      "execution_count": null,
      "outputs": []
    },
    {
      "cell_type": "code",
      "source": [
        "original=cv2.imread('/content/pan_card_tampering/image/original.png')"
      ],
      "metadata": {
        "id": "5QnmOV_VAXP6"
      },
      "execution_count": null,
      "outputs": []
    },
    {
      "cell_type": "code",
      "source": [
        "tampered=cv2.imread('/content/pan_card_tampering/image/tampered.png')"
      ],
      "metadata": {
        "id": "nEu9P2VyAHrx"
      },
      "execution_count": null,
      "outputs": []
    },
    {
      "cell_type": "code",
      "source": [
        "original_gray=cv2.cvtColor(original,cv2.COLOR_BGR2GRAY)\n",
        "tampered_gray=cv2.cvtColor(tampered,cv2.COLOR_BGR2GRAY)"
      ],
      "metadata": {
        "id": "FOXK04BNAP0J"
      },
      "execution_count": null,
      "outputs": []
    },
    {
      "cell_type": "code",
      "source": [
        "(score, diff) = structural_similarity(original_gray, tampered_gray, full=True)\n",
        "diff = (diff * 255).astype(\"uint8\")\n",
        "print(\"SSIM: {}\".format(score))"
      ],
      "metadata": {
        "id": "ITYt5ZM2AjmY"
      },
      "execution_count": null,
      "outputs": []
    },
    {
      "cell_type": "code",
      "source": [
        "thresh=cv2.threshold (diff,0,255,cv2.THRESH_BINARY_INV|cv2.THRESH_OTSU)[1]\n",
        "cnts=cv2.findContours(thresh.copy(),cv2.RETR_EXTERNAL, cv2.CHAIN_APPROX_SIMPLE)"
      ],
      "metadata": {
        "id": "Wbgl5q2ACIyo"
      },
      "execution_count": null,
      "outputs": []
    },
    {
      "cell_type": "code",
      "source": [
        "cnts=imutils.grab_contours(cnts)"
      ],
      "metadata": {
        "id": "MysYYqJvJBBV"
      },
      "execution_count": null,
      "outputs": []
    },
    {
      "cell_type": "code",
      "source": [
        "for c in cnts:\n",
        "    # applying contours on image\n",
        "    (x, y, w, h) = cv2.boundingRect(c)\n",
        "    cv2.rectangle(original, (x, y), (x + w, y + h), (0, 0, 255), 2)\n",
        "    cv2.rectangle(tampered, (x, y), (x + w, y + h), (0, 0, 255), 2)"
      ],
      "metadata": {
        "id": "m6-wu6PnJKmV"
      },
      "execution_count": null,
      "outputs": []
    },
    {
      "cell_type": "code",
      "source": [
        "#Diplay original image with contour\n",
        "print('Original Format Image')\n",
        "Image.fromarray(original)"
      ],
      "metadata": {
        "id": "uraHZj6tJYxy"
      },
      "execution_count": null,
      "outputs": []
    },
    {
      "cell_type": "code",
      "source": [
        "#Diplay tampered image with contour\n",
        "print('Tampered Image')\n",
        "Image.fromarray(tampered)"
      ],
      "metadata": {
        "id": "OTLJMjYkJaQm"
      },
      "execution_count": null,
      "outputs": []
    },
    {
      "cell_type": "code",
      "source": [
        "#Diplay difference image with black\n",
        "print('Different Image')\n",
        "Image.fromarray(diff)"
      ],
      "metadata": {
        "id": "mEZMRKYsJeec"
      },
      "execution_count": null,
      "outputs": []
    }
  ]
}